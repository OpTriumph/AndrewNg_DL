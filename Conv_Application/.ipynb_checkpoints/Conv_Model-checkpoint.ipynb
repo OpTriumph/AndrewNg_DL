{
 "cells": [
  {
   "cell_type": "code",
   "execution_count": 1,
   "metadata": {},
   "outputs": [],
   "source": [
    "import numpy as np\n",
    "import math\n",
    "import h5py\n",
    "import matplotlib.pyplot as plt\n",
    "from matplotlib.pyplot import imread\n",
    "import scipy\n",
    "from PIL import Image\n",
    "import pandas as pd\n",
    "import tensorflow as tf\n",
    "import tensorflow.keras.layers as tfl\n",
    "from tensorflow.python.framework import ops\n",
    "\n",
    "%matplotlib inline\n",
    "np.random.seed(1)"
   ]
  },
  {
   "cell_type": "markdown",
   "metadata": {},
   "source": [
    "## Happy Face Dataset"
   ]
  },
  {
   "cell_type": "code",
   "execution_count": 2,
   "metadata": {},
   "outputs": [],
   "source": [
    "def load_happy_face():\n",
    "    \n",
    "    train_dataset = h5py.File(\"datasets/train_happy.h5\",\"r\")\n",
    "    train_set_x_orig = np.array(train_dataset['train_set_x'][:])\n",
    "    train_set_y_orig = np.array(train_dataset['train_set_y'][:])\n",
    "    train_dataset.close()\n",
    "    \n",
    "    test_dataset = h5py.File(\"datasets/test_happy.h5\",\"r\")\n",
    "    test_set_x_orig = np.array(test_dataset['test_set_x'][:])\n",
    "    test_set_y_orig = np.array(test_dataset['test_set_y'][:])\n",
    "    \n",
    "    classes = np.array(test_dataset['list_classes'][:])\n",
    "\n",
    "    test_dataset.close()\n",
    "\n",
    "    train_set_y_orig = train_set_y_orig.reshape((1,train_set_x_orig.shape[0]))\n",
    "    test_set_y_orig = test_set_y_orig.reshape((1,test_set_x_orig.shape[0]))    \n",
    "    \n",
    "    return train_set_x_orig, train_set_y_orig, test_set_x_orig, test_set_y_orig, classes\n"
   ]
  },
  {
   "cell_type": "code",
   "execution_count": 3,
   "metadata": {
    "scrolled": false
   },
   "outputs": [
    {
     "name": "stdout",
     "output_type": "stream",
     "text": [
      "number of training data examples: 600\n",
      "number of test data: 150\n",
      "X_train shape: (600, 64, 64, 3)\n",
      "X_test shape: (150, 64, 64, 3)\n",
      "Y_train shape: (600, 1)\n",
      "Y_test shape: (150, 1)\n"
     ]
    },
    {
     "data": {
      "image/png": "[encoded data removed]",
      "text/plain": [
       "<Figure size 432x288 with 1 Axes>"
      ]
     },
     "metadata": {
      "needs_background": "light"
     },
     "output_type": "display_data"
    }
   ],
   "source": [
    "X_train_orig, Y_train_orig, X_test_orig, Y_test_orig, classes = load_happy_face()\n",
    "\n",
    "#Normalize\n",
    "X_train = X_train_orig/255\n",
    "X_test = X_test_orig/255\n",
    "\n",
    "#Reshape\n",
    "Y_train = Y_train_orig.T\n",
    "Y_test = Y_test_orig.T\n",
    "\n",
    "print(\"number of training data examples:\", X_train.shape[0])\n",
    "print(\"number of test data:\", X_test.shape[0])\n",
    "print(\"X_train shape:\", X_train.shape)\n",
    "print(\"X_test shape:\",X_test.shape)\n",
    "print(\"Y_train shape:\",Y_train.shape)\n",
    "print(\"Y_test shape:\",Y_test.shape)\n",
    "\n",
    "\n",
    "plt.imshow(X_train_orig[100])\n",
    "plt.show()\n"
   ]
  },
  {
   "cell_type": "markdown",
   "metadata": {},
   "source": [
    "## Sequential Model\n",
    "\n",
    "#### Padding -> Conv2D -> BatchNorm -> ReLU -> MaxPool -> Flatten -> Dense"
   ]
  },
  {
   "cell_type": "code",
   "execution_count": 4,
   "metadata": {},
   "outputs": [],
   "source": [
    "def happyModel():\n",
    "    model = tf.keras.Sequential([\n",
    "        #Zero paddding with 3, settin input shape to (64,64,3)\n",
    "        tfl.ZeroPadding2D(padding = 3, input_shape = (64,64,3)),\n",
    "        #Conv2D layer with 32 layers of 7 x 7 filters with stride of 1\n",
    "        tfl.Conv2D(32,7,strides = (1,1)),\n",
    "        #Batch Normalization for axis 3\n",
    "        tfl.BatchNormalization(axis = 3),\n",
    "        #ReLU Acitvation\n",
    "        tfl.ReLU(),\n",
    "        #Max Pooling layer 2D with default params\n",
    "        tfl.MaxPool2D(),\n",
    "        #Flatten Layer\n",
    "        tfl.Flatten(),\n",
    "        #Dense Layer with 1 unit for output and sigmoid activation\n",
    "        tfl.Dense(1, activation = \"sigmoid\"),\n",
    "    ])\n",
    "    return model"
   ]
  },
  {
   "cell_type": "code",
   "execution_count": 5,
   "metadata": {},
   "outputs": [],
   "source": [
    "happy_model = happyModel()\n",
    "happy_model.compile(optimizer = \"adam\",\n",
    "                    loss = \"binary_crossentropy\",\n",
    "                    metrics = ['accuracy'])"
   ]
  },
  {
   "cell_type": "code",
   "execution_count": 6,
   "metadata": {},
   "outputs": [
    {
     "name": "stdout",
     "output_type": "stream",
     "text": [
      "Model: \"sequential\"\n",
      "_________________________________________________________________\n",
      "Layer (type)                 Output Shape              Param #   \n",
      "=================================================================\n",
      "zero_padding2d (ZeroPadding2 (None, 70, 70, 3)         0         \n",
      "_________________________________________________________________\n",
      "conv2d (Conv2D)              (None, 64, 64, 32)        4736      \n",
      "_________________________________________________________________\n",
      "batch_normalization (BatchNo (None, 64, 64, 32)        128       \n",
      "_________________________________________________________________\n",
      "re_lu (ReLU)                 (None, 64, 64, 32)        0         \n",
      "_________________________________________________________________\n",
      "max_pooling2d (MaxPooling2D) (None, 32, 32, 32)        0         \n",
      "_________________________________________________________________\n",
      "flatten (Flatten)            (None, 32768)             0         \n",
      "_________________________________________________________________\n",
      "dense (Dense)                (None, 1)                 32769     \n",
      "=================================================================\n",
      "Total params: 37,633\n",
      "Trainable params: 37,569\n",
      "Non-trainable params: 64\n",
      "_________________________________________________________________\n"
     ]
    }
   ],
   "source": [
    "happy_model.summary()"
   ]
  },
  {
   "cell_type": "markdown",
   "metadata": {},
   "source": [
    "## Training & Evaluating"
   ]
  },
  {
   "cell_type": "code",
   "execution_count": 7,
   "metadata": {},
   "outputs": [
    {
     "name": "stdout",
     "output_type": "stream",
     "text": [
      "Epoch 1/10\n",
      "38/38 [==============================] - 4s 77ms/step - loss: 0.5856 - accuracy: 0.8000\n",
      "Epoch 2/10\n",
      "38/38 [==============================] - 3s 72ms/step - loss: 0.2492 - accuracy: 0.9050\n",
      "Epoch 3/10\n",
      "38/38 [==============================] - 3s 72ms/step - loss: 0.1911 - accuracy: 0.9283\n",
      "Epoch 4/10\n",
      "38/38 [==============================] - 3s 79ms/step - loss: 0.0993 - accuracy: 0.9667\n",
      "Epoch 5/10\n",
      "38/38 [==============================] - 3s 81ms/step - loss: 0.1628 - accuracy: 0.9450\n",
      "Epoch 6/10\n",
      "38/38 [==============================] - 3s 81ms/step - loss: 0.1307 - accuracy: 0.9533\n",
      "Epoch 7/10\n",
      "38/38 [==============================] - 2s 57ms/step - loss: 0.0863 - accuracy: 0.9667\n",
      "Epoch 8/10\n",
      "38/38 [==============================] - 2s 56ms/step - loss: 0.0678 - accuracy: 0.9800\n",
      "Epoch 9/10\n",
      "38/38 [==============================] - 2s 56ms/step - loss: 0.1826 - accuracy: 0.9400\n",
      "Epoch 10/10\n",
      "38/38 [==============================] - 2s 56ms/step - loss: 0.1904 - accuracy: 0.9350\n"
     ]
    },
    {
     "data": {
      "text/plain": [
       "<tensorflow.python.keras.callbacks.History at 0x254a4f7fb08>"
      ]
     },
     "execution_count": 7,
     "metadata": {},
     "output_type": "execute_result"
    }
   ],
   "source": [
    "happy_model.fit(X_train,Y_train,epochs = 10, batch_size = 16)"
   ]
  },
  {
   "cell_type": "code",
   "execution_count": 8,
   "metadata": {},
   "outputs": [
    {
     "name": "stdout",
     "output_type": "stream",
     "text": [
      "5/5 [==============================] - 1s 52ms/step - loss: 0.1630 - accuracy: 0.9533\n"
     ]
    },
    {
     "data": {
      "text/plain": [
       "[0.16300910711288452, 0.95333331823349]"
      ]
     },
     "execution_count": 8,
     "metadata": {},
     "output_type": "execute_result"
    }
   ],
   "source": [
    "happy_model.evaluate(X_test,Y_test)"
   ]
  },
  {
   "cell_type": "markdown",
   "metadata": {},
   "source": [
    "## Complex Model with Functional API"
   ]
  },
  {
   "cell_type": "markdown",
   "metadata": {},
   "source": [
    "### Dataset"
   ]
  },
  {
   "cell_type": "code",
   "execution_count": 9,
   "metadata": {},
   "outputs": [],
   "source": [
    "\n",
    "def load_signs_dataset():\n",
    "    train_dataset = h5py.File('datasets/train_signs.h5', \"r\")\n",
    "    train_set_x_orig = np.array(train_dataset[\"train_set_x\"][:]) # your train set features\n",
    "    train_set_y_orig = np.array(train_dataset[\"train_set_y\"][:]) # your train set labels\n",
    "\n",
    "    test_dataset = h5py.File('datasets/test_signs.h5', \"r\")\n",
    "    test_set_x_orig = np.array(test_dataset[\"test_set_x\"][:]) # your test set features\n",
    "    test_set_y_orig = np.array(test_dataset[\"test_set_y\"][:]) # your test set labels\n",
    "\n",
    "    classes = np.array(test_dataset[\"list_classes\"][:]) # the list of classes\n",
    "    \n",
    "    train_set_y_orig = train_set_y_orig.reshape((1, train_set_y_orig.shape[0]))\n",
    "    test_set_y_orig = test_set_y_orig.reshape((1, test_set_y_orig.shape[0]))\n",
    "    \n",
    "    return train_set_x_orig, train_set_y_orig, test_set_x_orig, test_set_y_orig, classes\n"
   ]
  },
  {
   "cell_type": "code",
   "execution_count": 10,
   "metadata": {},
   "outputs": [
    {
     "name": "stdout",
     "output_type": "stream",
     "text": [
      "training examples : 1080\n",
      "test examples : 120\n",
      "X_train shape (1080, 64, 64, 3)\n",
      "X_test shape: (120, 64, 64, 3)\n",
      "Y_train shape: (1080, 6)\n",
      "Y_test shape: (120, 6)\n",
      "this is number: 2\n"
     ]
    },
    {
     "data": {
      "image/png": "[encoded data removed]",
      "text/plain": [
       "<Figure size 432x288 with 1 Axes>"
      ]
     },
     "metadata": {
      "needs_background": "light"
     },
     "output_type": "display_data"
    }
   ],
   "source": [
    "def convert_to_one_hot(Y, C):\n",
    "    Y = np.eye(C)[Y.reshape(-1)].T\n",
    "    return Y\n",
    "\n",
    "X_train_orig, Y_train_orig, X_test_orig, Y_test_orig, classes = load_signs_dataset()\n",
    "\n",
    "X_train = X_train_orig / 255\n",
    "X_test= X_test_orig / 255\n",
    "Y_train = convert_to_one_hot(Y_train_orig, 6).T\n",
    "Y_test = convert_to_one_hot(Y_test_orig, 6).T\n",
    "\n",
    "print(\"training examples :\", X_train.shape[0])\n",
    "print(\"test examples :\", X_test.shape[0])\n",
    "print(\"X_train shape\", X_train.shape)\n",
    "print(\"X_test shape:\", X_test.shape)\n",
    "print(\"Y_train shape:\", Y_train.shape)\n",
    "print(\"Y_test shape:\", Y_test.shape)\n",
    "\n",
    "plt.imshow(X_train_orig[10])\n",
    "print(\"this is number:\", np.squeeze(Y_train_orig[:,10]))"
   ]
  },
  {
   "cell_type": "markdown",
   "metadata": {},
   "source": [
    "## Model, forward"
   ]
  },
  {
   "cell_type": "code",
   "execution_count": 11,
   "metadata": {},
   "outputs": [],
   "source": [
    "def convolutional_model(input_shape):\n",
    "    \n",
    "    input_img = tf.keras.Input(shape = input_shape)\n",
    "    \n",
    "    # conv2d layer with 8 layers of 4 x 4 filter, with stride of 1, same padding\n",
    "    Z1 = tfl.Conv2D(filters = 8, kernel_size = 4, padding = \"same\")(input_img)\n",
    "    \n",
    "    # ReLU activation\n",
    "    A1 = tfl.ReLU()(Z1)\n",
    "    \n",
    "    # MaxPooling with 8 x 8 window, stride 8, with same padding\n",
    "    P1 = tfl.MaxPool2D(pool_size = (8,8), strides = (8,8), padding = \"same\")(A1)\n",
    "    \n",
    "    #Conv2D layer with 16 layers of 2 x 2 filter, stride 1 with same padding\n",
    "    Z2 = tfl.Conv2D(filters = 16, kernel_size = 2, padding = \"same\")(P1)\n",
    "    \n",
    "    #ReLU activation\n",
    "    A2 = tfl.ReLU()(Z2)\n",
    "    \n",
    "    #Max Poolin layer with 4 x 4 window, stride of 4 same padding\n",
    "    P2 = tfl.MaxPool2D(pool_size = (4,4), strides = (4,4), padding = \"same\")(A2)\n",
    "    \n",
    "    #Flatten\n",
    "    F = tfl.Flatten()(P2)\n",
    "    \n",
    "    ##Dense Layer\n",
    "    output = tfl.Dense(units = 6, activation = \"softmax\")(F)\n",
    "    \n",
    "    model = tf.keras.Model(inputs = input_img, outputs = output)\n",
    "    \n",
    "    return model"
   ]
  },
  {
   "cell_type": "code",
   "execution_count": 12,
   "metadata": {},
   "outputs": [
    {
     "name": "stdout",
     "output_type": "stream",
     "text": [
      "Model: \"model\"\n",
      "_________________________________________________________________\n",
      "Layer (type)                 Output Shape              Param #   \n",
      "=================================================================\n",
      "input_1 (InputLayer)         [(None, 64, 64, 3)]       0         \n",
      "_________________________________________________________________\n",
      "conv2d_1 (Conv2D)            (None, 64, 64, 8)         392       \n",
      "_________________________________________________________________\n",
      "re_lu_1 (ReLU)               (None, 64, 64, 8)         0         \n",
      "_________________________________________________________________\n",
      "max_pooling2d_1 (MaxPooling2 (None, 8, 8, 8)           0         \n",
      "_________________________________________________________________\n",
      "conv2d_2 (Conv2D)            (None, 8, 8, 16)          528       \n",
      "_________________________________________________________________\n",
      "re_lu_2 (ReLU)               (None, 8, 8, 16)          0         \n",
      "_________________________________________________________________\n",
      "max_pooling2d_2 (MaxPooling2 (None, 2, 2, 16)          0         \n",
      "_________________________________________________________________\n",
      "flatten_1 (Flatten)          (None, 64)                0         \n",
      "_________________________________________________________________\n",
      "dense_1 (Dense)              (None, 6)                 390       \n",
      "=================================================================\n",
      "Total params: 1,310\n",
      "Trainable params: 1,310\n",
      "Non-trainable params: 0\n",
      "_________________________________________________________________\n"
     ]
    }
   ],
   "source": [
    "conv = convolutional_model((64,64,3))\n",
    "conv.compile(optimizer = \"adam\",\n",
    "             loss = \"categorical_crossentropy\",\n",
    "             metrics = ['accuracy'])\n",
    "conv.summary()"
   ]
  },
  {
   "cell_type": "markdown",
   "metadata": {},
   "source": [
    "## Training "
   ]
  },
  {
   "cell_type": "code",
   "execution_count": 13,
   "metadata": {},
   "outputs": [
    {
     "name": "stdout",
     "output_type": "stream",
     "text": [
      "Epoch 1/100\n",
      "17/17 [==============================] - 2s 71ms/step - loss: 1.7972 - accuracy: 0.2083 - val_loss: 1.7876 - val_accuracy: 0.2167\n",
      "Epoch 2/100\n",
      "17/17 [==============================] - 1s 64ms/step - loss: 1.7845 - accuracy: 0.2435 - val_loss: 1.7836 - val_accuracy: 0.2833\n",
      "Epoch 3/100\n",
      "17/17 [==============================] - 1s 75ms/step - loss: 1.7807 - accuracy: 0.2704 - val_loss: 1.7788 - val_accuracy: 0.3833\n",
      "Epoch 4/100\n",
      "17/17 [==============================] - 1s 75ms/step - loss: 1.7753 - accuracy: 0.3000 - val_loss: 1.7744 - val_accuracy: 0.4250\n",
      "Epoch 5/100\n",
      "17/17 [==============================] - 1s 79ms/step - loss: 1.7694 - accuracy: 0.3269 - val_loss: 1.7680 - val_accuracy: 0.3833\n",
      "Epoch 6/100\n",
      "17/17 [==============================] - 1s 81ms/step - loss: 1.7623 - accuracy: 0.3296 - val_loss: 1.7598 - val_accuracy: 0.4250\n",
      "Epoch 7/100\n",
      "17/17 [==============================] - 1s 58ms/step - loss: 1.7522 - accuracy: 0.3528 - val_loss: 1.7473 - val_accuracy: 0.4417\n",
      "Epoch 8/100\n",
      "17/17 [==============================] - 1s 79ms/step - loss: 1.7378 - accuracy: 0.3787 - val_loss: 1.7311 - val_accuracy: 0.4833\n",
      "Epoch 9/100\n",
      "17/17 [==============================] - 2s 96ms/step - loss: 1.7188 - accuracy: 0.3935 - val_loss: 1.7127 - val_accuracy: 0.5167\n",
      "Epoch 10/100\n",
      "17/17 [==============================] - 1s 88ms/step - loss: 1.6952 - accuracy: 0.4250 - val_loss: 1.6887 - val_accuracy: 0.5167\n",
      "Epoch 11/100\n",
      "17/17 [==============================] - 1s 76ms/step - loss: 1.6661 - accuracy: 0.4620 - val_loss: 1.6603 - val_accuracy: 0.5167\n",
      "Epoch 12/100\n",
      "17/17 [==============================] - 1s 62ms/step - loss: 1.6315 - accuracy: 0.4731 - val_loss: 1.6278 - val_accuracy: 0.5167\n",
      "Epoch 13/100\n",
      "17/17 [==============================] - 1s 67ms/step - loss: 1.5908 - accuracy: 0.4944 - val_loss: 1.5900 - val_accuracy: 0.5167\n",
      "Epoch 14/100\n",
      "17/17 [==============================] - 1s 59ms/step - loss: 1.5462 - accuracy: 0.5046 - val_loss: 1.5479 - val_accuracy: 0.5333\n",
      "Epoch 15/100\n",
      "17/17 [==============================] - 1s 63ms/step - loss: 1.4978 - accuracy: 0.5176 - val_loss: 1.5030 - val_accuracy: 0.5667\n",
      "Epoch 16/100\n",
      "17/17 [==============================] - 1s 68ms/step - loss: 1.4468 - accuracy: 0.5444 - val_loss: 1.4555 - val_accuracy: 0.5333\n",
      "Epoch 17/100\n",
      "17/17 [==============================] - 1s 57ms/step - loss: 1.3954 - accuracy: 0.5574 - val_loss: 1.4078 - val_accuracy: 0.5833\n",
      "Epoch 18/100\n",
      "17/17 [==============================] - 1s 86ms/step - loss: 1.3446 - accuracy: 0.5667 - val_loss: 1.3617 - val_accuracy: 0.5750\n",
      "Epoch 19/100\n",
      "17/17 [==============================] - 1s 71ms/step - loss: 1.2961 - accuracy: 0.5824 - val_loss: 1.3196 - val_accuracy: 0.5833\n",
      "Epoch 20/100\n",
      "17/17 [==============================] - 1s 62ms/step - loss: 1.2510 - accuracy: 0.5954 - val_loss: 1.2773 - val_accuracy: 0.5750\n",
      "Epoch 21/100\n",
      "17/17 [==============================] - 1s 78ms/step - loss: 1.2079 - accuracy: 0.6074 - val_loss: 1.2398 - val_accuracy: 0.5667\n",
      "Epoch 22/100\n",
      "17/17 [==============================] - 1s 76ms/step - loss: 1.1692 - accuracy: 0.6148 - val_loss: 1.2053 - val_accuracy: 0.5833\n",
      "Epoch 23/100\n",
      "17/17 [==============================] - 1s 77ms/step - loss: 1.1331 - accuracy: 0.6213 - val_loss: 1.1709 - val_accuracy: 0.6000\n",
      "Epoch 24/100\n",
      "17/17 [==============================] - 2s 87ms/step - loss: 1.0996 - accuracy: 0.6343 - val_loss: 1.1391 - val_accuracy: 0.6333\n",
      "Epoch 25/100\n",
      "17/17 [==============================] - 1s 61ms/step - loss: 1.0681 - accuracy: 0.6444 - val_loss: 1.1088 - val_accuracy: 0.6417\n",
      "Epoch 26/100\n",
      "17/17 [==============================] - 1s 65ms/step - loss: 1.0384 - accuracy: 0.6528 - val_loss: 1.0797 - val_accuracy: 0.6333\n",
      "Epoch 27/100\n",
      "17/17 [==============================] - 1s 66ms/step - loss: 1.0092 - accuracy: 0.6611 - val_loss: 1.0491 - val_accuracy: 0.6333\n",
      "Epoch 28/100\n",
      "17/17 [==============================] - 1s 69ms/step - loss: 0.9820 - accuracy: 0.6676 - val_loss: 1.0229 - val_accuracy: 0.6500\n",
      "Epoch 29/100\n",
      "17/17 [==============================] - 1s 86ms/step - loss: 0.9561 - accuracy: 0.6731 - val_loss: 0.9946 - val_accuracy: 0.6583\n",
      "Epoch 30/100\n",
      "17/17 [==============================] - 2s 98ms/step - loss: 0.9316 - accuracy: 0.6852 - val_loss: 0.9696 - val_accuracy: 0.6500\n",
      "Epoch 31/100\n",
      "17/17 [==============================] - 1s 63ms/step - loss: 0.9085 - accuracy: 0.6926 - val_loss: 0.9457 - val_accuracy: 0.6667\n",
      "Epoch 32/100\n",
      "17/17 [==============================] - 1s 64ms/step - loss: 0.8862 - accuracy: 0.7046 - val_loss: 0.9234 - val_accuracy: 0.6750\n",
      "Epoch 33/100\n",
      "17/17 [==============================] - 1s 71ms/step - loss: 0.8653 - accuracy: 0.7120 - val_loss: 0.9028 - val_accuracy: 0.6750\n",
      "Epoch 34/100\n",
      "17/17 [==============================] - 1s 62ms/step - loss: 0.8455 - accuracy: 0.7176 - val_loss: 0.8829 - val_accuracy: 0.6833\n",
      "Epoch 35/100\n",
      "17/17 [==============================] - 1s 82ms/step - loss: 0.8264 - accuracy: 0.7259 - val_loss: 0.8648 - val_accuracy: 0.6917\n",
      "Epoch 36/100\n",
      "17/17 [==============================] - 1s 80ms/step - loss: 0.8084 - accuracy: 0.7333 - val_loss: 0.8475 - val_accuracy: 0.7083\n",
      "Epoch 37/100\n",
      "17/17 [==============================] - 1s 81ms/step - loss: 0.7916 - accuracy: 0.7380 - val_loss: 0.8316 - val_accuracy: 0.7083\n",
      "Epoch 38/100\n",
      "17/17 [==============================] - 1s 71ms/step - loss: 0.7746 - accuracy: 0.7417 - val_loss: 0.8153 - val_accuracy: 0.7167\n",
      "Epoch 39/100\n",
      "17/17 [==============================] - ETA: 0s - loss: 0.7584 - accuracy: 0.75 - 1s 63ms/step - loss: 0.7584 - accuracy: 0.7565 - val_loss: 0.8001 - val_accuracy: 0.7167\n",
      "Epoch 40/100\n",
      "17/17 [==============================] - 1s 76ms/step - loss: 0.7433 - accuracy: 0.7583 - val_loss: 0.7856 - val_accuracy: 0.7167\n",
      "Epoch 41/100\n",
      "17/17 [==============================] - 1s 70ms/step - loss: 0.7286 - accuracy: 0.7667 - val_loss: 0.7715 - val_accuracy: 0.7083\n",
      "Epoch 42/100\n",
      "17/17 [==============================] - 1s 86ms/step - loss: 0.7147 - accuracy: 0.7704 - val_loss: 0.7584 - val_accuracy: 0.7083\n",
      "Epoch 43/100\n",
      "17/17 [==============================] - 2s 94ms/step - loss: 0.7018 - accuracy: 0.7759 - val_loss: 0.7461 - val_accuracy: 0.7083\n",
      "Epoch 44/100\n",
      "17/17 [==============================] - 1s 73ms/step - loss: 0.6887 - accuracy: 0.7787 - val_loss: 0.7345 - val_accuracy: 0.7083\n",
      "Epoch 45/100\n",
      "17/17 [==============================] - 1s 72ms/step - loss: 0.6771 - accuracy: 0.7870 - val_loss: 0.7238 - val_accuracy: 0.7167\n",
      "Epoch 46/100\n",
      "17/17 [==============================] - 1s 73ms/step - loss: 0.6650 - accuracy: 0.7898 - val_loss: 0.7133 - val_accuracy: 0.7167\n",
      "Epoch 47/100\n",
      "17/17 [==============================] - 1s 67ms/step - loss: 0.6547 - accuracy: 0.7926 - val_loss: 0.7035 - val_accuracy: 0.7250\n",
      "Epoch 48/100\n",
      "17/17 [==============================] - 1s 70ms/step - loss: 0.6435 - accuracy: 0.7954 - val_loss: 0.6935 - val_accuracy: 0.7250\n",
      "Epoch 49/100\n",
      "17/17 [==============================] - 1s 71ms/step - loss: 0.6340 - accuracy: 0.8009 - val_loss: 0.6847 - val_accuracy: 0.7250\n",
      "Epoch 50/100\n",
      "17/17 [==============================] - 1s 67ms/step - loss: 0.6242 - accuracy: 0.8056 - val_loss: 0.6759 - val_accuracy: 0.7333\n",
      "Epoch 51/100\n",
      "17/17 [==============================] - 1s 66ms/step - loss: 0.6146 - accuracy: 0.8120 - val_loss: 0.6673 - val_accuracy: 0.7250\n",
      "Epoch 52/100\n",
      "17/17 [==============================] - 1s 69ms/step - loss: 0.6051 - accuracy: 0.8130 - val_loss: 0.6593 - val_accuracy: 0.7333\n",
      "Epoch 53/100\n",
      "17/17 [==============================] - 1s 71ms/step - loss: 0.5962 - accuracy: 0.8139 - val_loss: 0.6519 - val_accuracy: 0.7333\n",
      "Epoch 54/100\n",
      "17/17 [==============================] - 1s 69ms/step - loss: 0.5875 - accuracy: 0.8148 - val_loss: 0.6440 - val_accuracy: 0.7250\n",
      "Epoch 55/100\n",
      "17/17 [==============================] - 1s 74ms/step - loss: 0.5788 - accuracy: 0.8194 - val_loss: 0.6376 - val_accuracy: 0.7250\n",
      "Epoch 56/100\n",
      "17/17 [==============================] - 1s 69ms/step - loss: 0.5704 - accuracy: 0.8204 - val_loss: 0.6305 - val_accuracy: 0.7250\n",
      "Epoch 57/100\n",
      "17/17 [==============================] - 1s 79ms/step - loss: 0.5627 - accuracy: 0.8204 - val_loss: 0.6247 - val_accuracy: 0.7250\n",
      "Epoch 58/100\n"
     ]
    },
    {
     "name": "stdout",
     "output_type": "stream",
     "text": [
      "17/17 [==============================] - 1s 73ms/step - loss: 0.5553 - accuracy: 0.8241 - val_loss: 0.6181 - val_accuracy: 0.7333\n",
      "Epoch 59/100\n",
      "17/17 [==============================] - 1s 73ms/step - loss: 0.5480 - accuracy: 0.8241 - val_loss: 0.6124 - val_accuracy: 0.7250\n",
      "Epoch 60/100\n",
      "17/17 [==============================] - 1s 70ms/step - loss: 0.5406 - accuracy: 0.8241 - val_loss: 0.6068 - val_accuracy: 0.7250\n",
      "Epoch 61/100\n",
      "17/17 [==============================] - 1s 67ms/step - loss: 0.5338 - accuracy: 0.8259 - val_loss: 0.6020 - val_accuracy: 0.7250\n",
      "Epoch 62/100\n",
      "17/17 [==============================] - 1s 67ms/step - loss: 0.5272 - accuracy: 0.8296 - val_loss: 0.5968 - val_accuracy: 0.7250\n",
      "Epoch 63/100\n",
      "17/17 [==============================] - 1s 65ms/step - loss: 0.5209 - accuracy: 0.8324 - val_loss: 0.5914 - val_accuracy: 0.7250\n",
      "Epoch 64/100\n",
      "17/17 [==============================] - 1s 80ms/step - loss: 0.5148 - accuracy: 0.8343 - val_loss: 0.5868 - val_accuracy: 0.7250\n",
      "Epoch 65/100\n",
      "17/17 [==============================] - 1s 64ms/step - loss: 0.5089 - accuracy: 0.8352 - val_loss: 0.5821 - val_accuracy: 0.7250\n",
      "Epoch 66/100\n",
      "17/17 [==============================] - 2s 89ms/step - loss: 0.5029 - accuracy: 0.8361 - val_loss: 0.5775 - val_accuracy: 0.7250\n",
      "Epoch 67/100\n",
      "17/17 [==============================] - 1s 68ms/step - loss: 0.4974 - accuracy: 0.8352 - val_loss: 0.5734 - val_accuracy: 0.7333\n",
      "Epoch 68/100\n",
      "17/17 [==============================] - 1s 71ms/step - loss: 0.4920 - accuracy: 0.8370 - val_loss: 0.5692 - val_accuracy: 0.7417\n",
      "Epoch 69/100\n",
      "17/17 [==============================] - 1s 64ms/step - loss: 0.4865 - accuracy: 0.8380 - val_loss: 0.5653 - val_accuracy: 0.7500\n",
      "Epoch 70/100\n",
      "17/17 [==============================] - 1s 62ms/step - loss: 0.4813 - accuracy: 0.8407 - val_loss: 0.5616 - val_accuracy: 0.7500\n",
      "Epoch 71/100\n",
      "17/17 [==============================] - 1s 72ms/step - loss: 0.4758 - accuracy: 0.8435 - val_loss: 0.5569 - val_accuracy: 0.7500\n",
      "Epoch 72/100\n",
      "17/17 [==============================] - 1s 84ms/step - loss: 0.4711 - accuracy: 0.8426 - val_loss: 0.5538 - val_accuracy: 0.7500\n",
      "Epoch 73/100\n",
      "17/17 [==============================] - 1s 70ms/step - loss: 0.4659 - accuracy: 0.8472 - val_loss: 0.5496 - val_accuracy: 0.7500\n",
      "Epoch 74/100\n",
      "17/17 [==============================] - 1s 75ms/step - loss: 0.4609 - accuracy: 0.8491 - val_loss: 0.5465 - val_accuracy: 0.7500\n",
      "Epoch 75/100\n",
      "17/17 [==============================] - 1s 65ms/step - loss: 0.4565 - accuracy: 0.8519 - val_loss: 0.5435 - val_accuracy: 0.7583\n",
      "Epoch 76/100\n",
      "17/17 [==============================] - 1s 66ms/step - loss: 0.4516 - accuracy: 0.8537 - val_loss: 0.5399 - val_accuracy: 0.7583\n",
      "Epoch 77/100\n",
      "17/17 [==============================] - 1s 84ms/step - loss: 0.4471 - accuracy: 0.8546 - val_loss: 0.5367 - val_accuracy: 0.7583\n",
      "Epoch 78/100\n",
      "17/17 [==============================] - 1s 70ms/step - loss: 0.4428 - accuracy: 0.8556 - val_loss: 0.5333 - val_accuracy: 0.7583\n",
      "Epoch 79/100\n",
      "17/17 [==============================] - 1s 67ms/step - loss: 0.4386 - accuracy: 0.8556 - val_loss: 0.5303 - val_accuracy: 0.7583\n",
      "Epoch 80/100\n",
      "17/17 [==============================] - 1s 66ms/step - loss: 0.4344 - accuracy: 0.8574 - val_loss: 0.5276 - val_accuracy: 0.7583\n",
      "Epoch 81/100\n",
      "17/17 [==============================] - 1s 67ms/step - loss: 0.4305 - accuracy: 0.8574 - val_loss: 0.5246 - val_accuracy: 0.7583\n",
      "Epoch 82/100\n",
      "17/17 [==============================] - 1s 65ms/step - loss: 0.4264 - accuracy: 0.8602 - val_loss: 0.5212 - val_accuracy: 0.7583\n",
      "Epoch 83/100\n",
      "17/17 [==============================] - 1s 77ms/step - loss: 0.4226 - accuracy: 0.8630 - val_loss: 0.5188 - val_accuracy: 0.7583\n",
      "Epoch 84/100\n",
      "17/17 [==============================] - 1s 71ms/step - loss: 0.4185 - accuracy: 0.8648 - val_loss: 0.5151 - val_accuracy: 0.7583\n",
      "Epoch 85/100\n",
      "17/17 [==============================] - 1s 73ms/step - loss: 0.4146 - accuracy: 0.8667 - val_loss: 0.5123 - val_accuracy: 0.7583\n",
      "Epoch 86/100\n",
      "17/17 [==============================] - 1s 68ms/step - loss: 0.4109 - accuracy: 0.8667 - val_loss: 0.5097 - val_accuracy: 0.7583\n",
      "Epoch 87/100\n",
      "17/17 [==============================] - 1s 65ms/step - loss: 0.4073 - accuracy: 0.8685 - val_loss: 0.5064 - val_accuracy: 0.7583\n",
      "Epoch 88/100\n",
      "17/17 [==============================] - 1s 69ms/step - loss: 0.4037 - accuracy: 0.8704 - val_loss: 0.5036 - val_accuracy: 0.7500\n",
      "Epoch 89/100\n",
      "17/17 [==============================] - 1s 75ms/step - loss: 0.4003 - accuracy: 0.8722 - val_loss: 0.4999 - val_accuracy: 0.7583\n",
      "Epoch 90/100\n",
      "17/17 [==============================] - 1s 78ms/step - loss: 0.3968 - accuracy: 0.8731 - val_loss: 0.4968 - val_accuracy: 0.7583\n",
      "Epoch 91/100\n",
      "17/17 [==============================] - 1s 69ms/step - loss: 0.3936 - accuracy: 0.8741 - val_loss: 0.4941 - val_accuracy: 0.7667\n",
      "Epoch 92/100\n",
      "17/17 [==============================] - 1s 66ms/step - loss: 0.3905 - accuracy: 0.8731 - val_loss: 0.4915 - val_accuracy: 0.7750\n",
      "Epoch 93/100\n",
      "17/17 [==============================] - 1s 66ms/step - loss: 0.3870 - accuracy: 0.8741 - val_loss: 0.4894 - val_accuracy: 0.7750\n",
      "Epoch 94/100\n",
      "17/17 [==============================] - 1s 64ms/step - loss: 0.3840 - accuracy: 0.8741 - val_loss: 0.4869 - val_accuracy: 0.7917\n",
      "Epoch 95/100\n",
      "17/17 [==============================] - 1s 66ms/step - loss: 0.3808 - accuracy: 0.8759 - val_loss: 0.4837 - val_accuracy: 0.8000\n",
      "Epoch 96/100\n",
      "17/17 [==============================] - 1s 66ms/step - loss: 0.3779 - accuracy: 0.8778 - val_loss: 0.4815 - val_accuracy: 0.8000\n",
      "Epoch 97/100\n",
      "17/17 [==============================] - 1s 64ms/step - loss: 0.3750 - accuracy: 0.8787 - val_loss: 0.4797 - val_accuracy: 0.8083\n",
      "Epoch 98/100\n",
      "17/17 [==============================] - 1s 76ms/step - loss: 0.3718 - accuracy: 0.8815 - val_loss: 0.4771 - val_accuracy: 0.8083\n",
      "Epoch 99/100\n",
      "17/17 [==============================] - 1s 67ms/step - loss: 0.3690 - accuracy: 0.8833 - val_loss: 0.4745 - val_accuracy: 0.8083\n",
      "Epoch 100/100\n",
      "17/17 [==============================] - 1s 66ms/step - loss: 0.3659 - accuracy: 0.8852 - val_loss: 0.4717 - val_accuracy: 0.8083\n"
     ]
    }
   ],
   "source": [
    "train_dataset = tf.data.Dataset.from_tensor_slices((X_train, Y_train)).batch(64)\n",
    "test_dataset = tf.data.Dataset.from_tensor_slices((X_test, Y_test)).batch(64)\n",
    "history = conv.fit(train_dataset, epochs = 100, validation_data = test_dataset)"
   ]
  },
  {
   "cell_type": "code",
   "execution_count": 14,
   "metadata": {},
   "outputs": [
    {
     "name": "stderr",
     "output_type": "stream",
     "text": [
      "c:\\users\\howuseeit\\appdata\\local\\programs\\python\\python37\\lib\\site-packages\\pandas\\core\\frame.py:4133: SettingWithCopyWarning: \n",
      "A value is trying to be set on a copy of a slice from a DataFrame\n",
      "\n",
      "See the caveats in the documentation: https://pandas.pydata.org/pandas-docs/stable/user_guide/indexing.html#returning-a-view-versus-a-copy\n",
      "  errors=errors,\n"
     ]
    },
    {
     "data": {
      "text/plain": [
       "[Text(0, 0.5, 'Accuracy'), Text(0.5, 0, 'Epoch')]"
      ]
     },
     "execution_count": 14,
     "metadata": {},
     "output_type": "execute_result"
    },
    {
     "data": {
      "image/png": "[encoded data removed]",
      "text/plain": [
       "<Figure size 864x576 with 1 Axes>"
      ]
     },
     "metadata": {
      "needs_background": "light"
     },
     "output_type": "display_data"
    },
    {
     "data": {
      "image/png": "[encoded data removed]",
      "text/plain": [
       "<Figure size 864x576 with 1 Axes>"
      ]
     },
     "metadata": {
      "needs_background": "light"
     },
     "output_type": "display_data"
    }
   ],
   "source": [
    "df_loss_acc = pd.DataFrame(history.history)\n",
    "df_loss= df_loss_acc[['loss','val_loss']]\n",
    "df_loss.rename(columns={'loss':'train','val_loss':'validation'},inplace=True)\n",
    "df_acc= df_loss_acc[['accuracy','val_accuracy']]\n",
    "df_acc.rename(columns={'accuracy':'train','val_accuracy':'validation'},inplace=True)\n",
    "df_loss.plot(title='Model loss',figsize=(12,8)).set(xlabel='Epoch',ylabel='Loss')\n",
    "df_acc.plot(title='Model Accuracy',figsize=(12,8)).set(xlabel='Epoch',ylabel='Accuracy')"
   ]
  },
  {
   "cell_type": "code",
   "execution_count": null,
   "metadata": {},
   "outputs": [],
   "source": []
  }
 ],
 "metadata": {
  "kernelspec": {
   "display_name": "Python 3",
   "language": "python",
   "name": "python3"
  },
  "language_info": {
   "codemirror_mode": {
    "name": "ipython",
    "version": 3
   },
   "file_extension": ".py",
   "mimetype": "text/x-python",
   "name": "python",
   "nbconvert_exporter": "python",
   "pygments_lexer": "ipython3",
   "version": "3.7.4"
  }
 },
 "nbformat": 4,
 "nbformat_minor": 4
}
