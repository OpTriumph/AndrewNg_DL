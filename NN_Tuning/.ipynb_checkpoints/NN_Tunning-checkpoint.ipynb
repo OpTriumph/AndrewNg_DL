{
 "cells": [
  {
   "cell_type": "code",
   "execution_count": 114,
   "metadata": {},
   "outputs": [
    {
     "name": "stdout",
     "output_type": "stream",
     "text": [
      "The autoreload extension is already loaded. To reload it, use:\n",
      "  %reload_ext autoreload\n"
     ]
    }
   ],
   "source": [
    "import numpy as np\n",
    "import matplotlib.pyplot as plt\n",
    "import scipy\n",
    "import h5py\n",
    "\n",
    "%matplotlib inline\n",
    "\n",
    "%load_ext autoreload\n",
    "%autoreload 2\n",
    "\n",
    "np.random.seed(1)"
   ]
  },
  {
   "cell_type": "markdown",
   "metadata": {},
   "source": [
    "### Neural Network Tunning methods\n",
    "##### 1. NN Parameters Initialization"
   ]
  },
  {
   "cell_type": "code",
   "execution_count": 115,
   "metadata": {},
   "outputs": [],
   "source": [
    "### Option 1: Initialize parameters as 0s\n",
    "\n",
    "def initialize_params_zeros(layer_dims):\n",
    "    \n",
    "    parameters = {}\n",
    "    \n",
    "    L = len(layer_dims)\n",
    "    \n",
    "    for l in range(1,L):\n",
    "        \n",
    "        parameters['W' + str(l)] = np.zeros((layer_dims[l],layer_dims[l-1]))\n",
    "        parameters['b' + str(l)] = np.zeros((layer_dims[l],1))        \n",
    "    return parameters\n",
    "\n",
    "### Option 2: Initialize parameters randomly\n",
    "\n",
    "def initialize_params_random(layer_dims):\n",
    "    \n",
    "    parameters = {}\n",
    "    L = len(layers_dims)            \n",
    "    \n",
    "    for l in range(1, L):\n",
    "       \n",
    "        parameters['W' + str(l) ] = np.random.randn(layer_dims[l] , layer_dims[l - 1]) * 10\n",
    "        parameters['b' + str(l) ] = np.zeros((layer_dims[l],1))\n",
    "        \n",
    "\n",
    "    return parameters\n",
    "### Option 3: He initialization\n",
    "\n",
    "def initialize_params_He(layer_dims):\n",
    "    \n",
    "    parameters = {}\n",
    "    L = len(layer_dims) - 1\n",
    "    \n",
    "    for l in range(1, L + 1):\n",
    "        \n",
    "        parameters['W' + str(l)] = np.random.randn(layer_dims[l], layer_dims[l - 1]) * np.sqrt(2/ layer_dims[l-1])\n",
    "        parameters['b' + str(l)] = np.zeros((layers_dims[l], 1))\n",
    "    return parameters"
   ]
  },
  {
   "cell_type": "code",
   "execution_count": null,
   "metadata": {},
   "outputs": [],
   "source": []
  },
  {
   "cell_type": "markdown",
   "metadata": {},
   "source": [
    "##### 2. NN "
   ]
  },
  {
   "cell_type": "markdown",
   "metadata": {},
   "source": [
    "##### 3. Linear forward propagation & Linear Activation Forward"
   ]
  },
  {
   "cell_type": "code",
   "execution_count": 116,
   "metadata": {},
   "outputs": [],
   "source": [
    "def linear_forward(A, W, b):\n",
    "        \n",
    "    Z = W.dot(A) + b\n",
    "    \n",
    "    cache = (A,W,b)\n",
    "    \n",
    "    return Z, cache\n",
    "\n",
    "\n",
    "\n",
    "\n",
    "# Activation Functions for NN\n",
    "def sigmoid(Z):\n",
    "    \n",
    "    A= 1 / (1 + np.exp(-Z))\n",
    "    cache = Z\n",
    "    \n",
    "    return A, cache\n",
    "\n",
    "def Relu(Z):\n",
    "    \n",
    "    A = np.maximum(0,Z)\n",
    "    cache = Z\n",
    "    \n",
    "    return A, cache\n",
    "\n",
    "\n",
    "\n",
    "# Linear to Activation Layer\n",
    "\n",
    "\n",
    "def linear_activation_forward(A_prev, W, b, activation):\n",
    "    \n",
    "    if activation == \"sigmoid\":\n",
    "        \n",
    "        Z, lin_cache = linear_forward(A_prev, W, b)\n",
    "        A, act_cache = sigmoid(Z)\n",
    "        \n",
    "    elif activation == \"relu\":\n",
    "        \n",
    "        Z, lin_cache = linear_forward(A_prev, W, b)\n",
    "        A, act_cache = Relu(Z)\n",
    "        \n",
    "    cache = (lin_cache, act_cache)\n",
    "    \n",
    "    return A, cache"
   ]
  },
  {
   "cell_type": "markdown",
   "metadata": {},
   "source": [
    "##### 4. L-Layer Model forward"
   ]
  },
  {
   "cell_type": "code",
   "execution_count": 117,
   "metadata": {},
   "outputs": [],
   "source": [
    "def L_model_forward(X, params):\n",
    "    \n",
    "    caches =[]\n",
    "    A = X\n",
    "    L = len(params) // 2\n",
    "    \n",
    "    for l in range(1, L):\n",
    "        \n",
    "        A_prev = A\n",
    "        # Using Relu Activation function in Hidden Layers\n",
    "        A, cache = linear_activation_forward(A_prev, params['W' + str(l)], params['b' + str(l)], \"relu\")\n",
    "        caches.append(cache)\n",
    "        \n",
    "    AL, cache = linear_activation_forward(A, params['W' + str(L)], params['b' + str(L)], \"sigmoid\")\n",
    "    caches.append(cache)\n",
    "    \n",
    "    return AL, caches\n"
   ]
  },
  {
   "cell_type": "markdown",
   "metadata": {},
   "source": [
    "##### 5. Cross-Entropy Cost Function"
   ]
  },
  {
   "cell_type": "code",
   "execution_count": 118,
   "metadata": {},
   "outputs": [],
   "source": [
    "def cost_function(AL, Y):\n",
    "    \n",
    "    m = Y.shape[1]\n",
    "    \n",
    "    logprobs = np.multiply(-np.log(AL),Y) + np.multiply(-np.log(1 - AL), 1 - Y)\n",
    "    loss = 1./m * np.nansum(logprobs)\n",
    "    \n",
    "    return loss"
   ]
  },
  {
   "cell_type": "markdown",
   "metadata": {},
   "source": [
    "##### 6. Backward Propagation\n",
    "\n",
    "###### (1) Linear Backward propagation\n"
   ]
  },
  {
   "cell_type": "code",
   "execution_count": 119,
   "metadata": {},
   "outputs": [],
   "source": [
    "def linear_backprop(dZ, cache):\n",
    "    \n",
    "    A_prev, W, b = cache\n",
    "    m = A_prev.shape[1]\n",
    "    \n",
    "    dW = 1/m * np.dot(dZ, A_prev.T)\n",
    "    db = 1/m * np.sum(dZ, axis = 1, keepdims = True)\n",
    "    dA_prev = np.dot(W.T, dZ)\n",
    "    \n",
    "    return dA_prev, dW, db"
   ]
  },
  {
   "cell_type": "markdown",
   "metadata": {},
   "source": [
    "##### 6. Backward Propagation\n",
    "\n",
    "###### (2) Linear to Activation Backward propagation (Relu/ sigmoid)"
   ]
  },
  {
   "cell_type": "code",
   "execution_count": 120,
   "metadata": {},
   "outputs": [],
   "source": [
    "def relu_backprop(dA, cache):\n",
    "    \n",
    "    Z = cache\n",
    "    dZ = np.array(dA, copy = True)\n",
    "    dZ[Z<= 0] = 0\n",
    "    return dZ\n",
    "\n",
    "def sigmoid_backprop(dA, cache):\n",
    "    \n",
    "    Z = cache\n",
    "    s = 1/(1 + np.exp(-Z))\n",
    "    dZ = dA * s * (1 - s)\n",
    "    \n",
    "    return dZ\n",
    "\n",
    "def linear_activation_backprop(dA, cache, activation):\n",
    "    \n",
    "    lin_cache , act_cache = cache\n",
    "    \n",
    "    if activation == \"relu\":\n",
    "        \n",
    "        dZ = relu_backprop(dA, act_cache)\n",
    "        dA_prev, dW, db = linear_backprop(dZ, lin_cache)\n",
    "    \n",
    "    elif activation == 'sigmoid':\n",
    "        \n",
    "        dZ = sigmoid_backprop(dA, act_cache)\n",
    "        dA_prev, dW, db = linear_backprop(dZ, lin_cache)\n",
    "        \n",
    "    return dA_prev, dW, db"
   ]
  },
  {
   "cell_type": "markdown",
   "metadata": {},
   "source": [
    "##### 6. Backward Propagation\n",
    "\n",
    "###### (3) Entire Model's Backward propagation\n",
    "\n"
   ]
  },
  {
   "cell_type": "code",
   "execution_count": 121,
   "metadata": {},
   "outputs": [],
   "source": [
    "def L_model_backprop(AL, Y, caches):\n",
    "    \n",
    "\n",
    "\n",
    "    grads = {}\n",
    "    L = len(caches)\n",
    "    m = AL.shape[1]\n",
    "    Y = Y.reshape(AL.shape)\n",
    "    \n",
    "    dAL = -(np.divide(Y,AL) - np.divide(1-Y, 1-AL))\n",
    "    \n",
    "    current_cache = caches[L - 1]\n",
    "    dA_prev_temp , dW_temp, db_temp = linear_activation_backprop(dAL, current_cache,\"sigmoid\")\n",
    "    grads['dA' + str( L - 1)] = dA_prev_temp\n",
    "    grads['dW' + str(L)] = dW_temp\n",
    "    grads['db' + str(L)] = db_temp\n",
    "    \n",
    "    for l in reversed(range(L - 1)):\n",
    "        current_cache = caches[l]\n",
    "        dA_prev_temp, dW_temp , db_temp = linear_activation_backprop(grads['dA' + str(l + 1)], current_cache,'relu')\n",
    "        grads[\"dA\" + str(l)] = dA_prev_temp\n",
    "        grads[\"dW\" + str(l+ 1)] = dW_temp\n",
    "        grads[\"db\" + str(l + 1)] = db_temp\n",
    "    \n",
    "    return grads\n",
    "\n"
   ]
  },
  {
   "cell_type": "markdown",
   "metadata": {},
   "source": [
    "##### 6. Backward Propagation\n",
    "\n",
    "###### (4) Parameters Update\n"
   ]
  },
  {
   "cell_type": "code",
   "execution_count": 122,
   "metadata": {},
   "outputs": [],
   "source": [
    "def params_update(parameters, grads, alpha):\n",
    "    \n",
    "    L = len(parameters)//2\n",
    "    \n",
    "    for l in range(L):\n",
    "        \n",
    "        parameters[\"W\" + str(l+1)] = parameters[\"W\" + str(l+1)] - alpha * grads[\"dW\" + str(l+1)]\n",
    "        parameters[\"b\" + str(l+1)] = parameters[\"b\" + str(l+1)] - alpha * grads[\"db\" + str(l+1)]\n",
    "    \n",
    "    return parameters\n",
    "\n"
   ]
  },
  {
   "cell_type": "markdown",
   "metadata": {},
   "source": [
    "### Predict Using NN"
   ]
  },
  {
   "cell_type": "code",
   "execution_count": 123,
   "metadata": {},
   "outputs": [],
   "source": [
    "\n",
    "def predict(X, y, parameters):\n",
    "\n",
    "    \n",
    "    m = X.shape[1]\n",
    "    n = len(parameters) // 2 # number of layers in the neural network\n",
    "    p = np.zeros((1,m))\n",
    "    \n",
    "    # Forward propagation\n",
    "    probas, caches = L_model_forward(X, parameters)\n",
    "\n",
    "    \n",
    "    # convert probas to 0/1 predictions\n",
    "    for i in range(0, probas.shape[1]):\n",
    "        if probas[0,i] > 0.5:\n",
    "            p[0,i] = 1\n",
    "        else:\n",
    "            p[0,i] = 0\n",
    "    \n",
    "\n",
    "    print(\"Accuracy: \"  + str(np.sum((p == y)/m)))\n",
    "        \n",
    "    return p"
   ]
  },
  {
   "cell_type": "markdown",
   "metadata": {},
   "source": [
    "## Load dataset"
   ]
  },
  {
   "cell_type": "code",
   "execution_count": 124,
   "metadata": {},
   "outputs": [],
   "source": [
    "import cv2\n",
    "import os\n",
    "import random\n",
    "\n",
    "TRAINDIR = \"train\"\n",
    "CATEGORIES = ['hot_dog', 'not_hot_dog']\n",
    "IMG_SIZE = 100\n",
    "\n",
    "def create_trainin_data():\n",
    "\n",
    "    for ctg in CATEGORIES:\n",
    "        path = os.path.join(TRAINDIR, ctg)\n",
    "        label = CATEGORIES.index(ctg)\n",
    "        \n",
    "        for img in os.listdir(path):\n",
    "            img_array = cv2.imread(os.path.join(path, img), cv2.IMREAD_GRAYSCALE)\n",
    "            new_array = cv2.resize(img_array, (IMG_SIZE, IMG_SIZE))\n",
    "            training_set.append([new_array, label])\n",
    "            \n",
    "training_set = []\n",
    "create_trainin_data()\n",
    "random.shuffle(training_set)\n",
    "\n",
    "#preprocessing the data\n",
    "X = []\n",
    "y = []\n",
    "\n",
    "for features, labels in training_set:\n",
    "    X.append(features)\n",
    "    y.append(labels)\n",
    "\n",
    "X = np.array(X)\n",
    "X = X.reshape(X.shape[0],-1).T\n",
    "X = X/ 255\n",
    "y = np.array(y)\n",
    "y = y.reshape(1,y.shape[0])"
   ]
  },
  {
   "cell_type": "markdown",
   "metadata": {},
   "source": [
    "## Packing a L-Layer NN"
   ]
  },
  {
   "cell_type": "code",
   "execution_count": 125,
   "metadata": {},
   "outputs": [],
   "source": [
    "#Structure \n",
    "def L_layer_model(X, Y, layers_dims, alpha = 0.0075, num_iters = 3000, print_cost = False):\n",
    "    costs = []\n",
    "    parameters = param_initialization_deep(layers_dims)\n",
    "\n",
    "    for i in range(0,num_iters):\n",
    "        AL, caches = L_model_forward(X, parameters)\n",
    "        \n",
    "        cost = cost_function(AL, Y)\n",
    "        \n",
    "        grads = L_model_backprop(AL, Y, caches)\n",
    "        \n",
    "        parameters = params_update(parameters, grads, alpha)\n",
    "        \n",
    "        if print_cost and i % 100 == 0 or i == num_iters - 1:\n",
    "            print(\"Cost after iteration {}: {}\".format(i, np.squeeze(cost)))\n",
    "        if i % 100 == 0 or i == num_iters:\n",
    "            costs.append(cost)\n",
    "    \n",
    "    return parameters, costs"
   ]
  },
  {
   "cell_type": "code",
   "execution_count": 126,
   "metadata": {},
   "outputs": [
    {
     "name": "stdout",
     "output_type": "stream",
     "text": [
      "Initialization using zeros\n",
      "Cost after iteration 0: 0.6931471805599453\n",
      "Cost after iteration 1000: 0.6924308193604622\n",
      "Cost after iteration 2000: 0.6924260015707089\n",
      "Cost after iteration 2999: 0.6924259690876939\n"
     ]
    },
    {
     "data": {
      "image/png": "[encoded data removed]",
      "text/plain": [
       "<Figure size 432x288 with 1 Axes>"
      ]
     },
     "metadata": {
      "needs_background": "light"
     },
     "output_type": "display_data"
    },
    {
     "name": "stdout",
     "output_type": "stream",
     "text": [
      "Initialization using He method\n",
      "Cost after iteration 0: 1.1008663060888781\n",
      "Cost after iteration 1000: 0.43809586183242555\n",
      "Cost after iteration 2000: 0.41508081065669145\n",
      "Cost after iteration 2999: 0.08231060072147112\n"
     ]
    },
    {
     "data": {
      "image/png": "[encoded data removed]",
      "text/plain": [
       "<Figure size 432x288 with 1 Axes>"
      ]
     },
     "metadata": {
      "needs_background": "light"
     },
     "output_type": "display_data"
    }
   ],
   "source": [
    "## Parameter Initialization with zeros\n",
    "\n",
    " \n",
    "def L_layer_model(X, Y, layers_dims, alpha = 0.01, num_iters = 3000, print_cost = False, initialization = \"he\"):\n",
    "    costs = []\n",
    "    \n",
    "    if initialization == \"zeros\":\n",
    "        parameters = initialize_params_zeros(layers_dims)\n",
    "    elif initialization == \"random\":\n",
    "        parameters = initialize_params_random(layers_dims)\n",
    "    elif initialization == \"he\":\n",
    "        parameters = initialize_params_He(layers_dims)\n",
    "        \n",
    "    for i in range(0,num_iters):\n",
    "        AL, caches = L_model_forward(X, parameters)\n",
    "\n",
    "        cost = cost_function(AL, Y)\n",
    "\n",
    "        grads = L_model_backprop(AL, Y, caches)\n",
    "        \n",
    "        parameters = params_update(parameters, grads, alpha)\n",
    "        \n",
    "        if print_cost and i % 1000 == 0 or i == num_iters - 1:\n",
    "            print(\"Cost after iteration {}: {}\".format(i, np.squeeze(cost)))\n",
    "        if i % 100 == 0 or i == num_iters:\n",
    "            costs.append(cost)\n",
    "    \n",
    "    return parameters, costs\n",
    "\n",
    "def plot_costs(costs, alpha=0.0075):\n",
    "    plt.plot(np.squeeze(costs))\n",
    "    plt.ylabel('cost')\n",
    "    plt.xlabel('iterations (per hundreds)')\n",
    "    plt.title(\"Learning rate =\" + str(alpha))\n",
    "    plt.show()\n",
    "    \n",
    "alpha = 0.0075\n",
    "\n",
    "layers_dims = [X.shape[0],30,15,1]\n",
    "\n",
    "print(\"Initialization using zeros\")\n",
    "parameters, costs = L_layer_model(X, y, layers_dims, num_iters = 3000, print_cost = True,initialization=\"zeros\")\n",
    "plot_costs(costs, alpha)\n",
    "\n",
    "# print(\"Initialization using random numbers\")\n",
    "# parameters, costs = L_layer_model(X, y, layers_dims, num_iters = 1000, print_cost = True,initialization=\"random\")\n",
    "# plot_costs(costs, alpha)\n",
    "\n",
    "print(\"Initialization using He method\")\n",
    "parameters, costs = L_layer_model(X, y, layers_dims, num_iters = 3000, print_cost = True,initialization=\"he\")\n",
    "plot_costs(costs, alpha)\n"
   ]
  },
  {
   "cell_type": "markdown",
   "metadata": {},
   "source": [
    "### Neural Network Tunning methods\n",
    "##### 2. Regularization"
   ]
  },
  {
   "cell_type": "code",
   "execution_count": 127,
   "metadata": {},
   "outputs": [],
   "source": [
    "def cost_function_reg(AL, Y, params, lambd):\n",
    "    \n",
    "    m = Y.shape[1]\n",
    "    n = len(params) // 2\n",
    "    Ws = []\n",
    "    for l in range(1,n + 1):\n",
    "        \n",
    "        Ws.append(params['W' + str(l)] )\n",
    "        \n",
    "    CEC = cost_function(AL,Y)\n",
    "    \n",
    "    L2_cost = 1/m * lambd /2 * sum([np.sum(np.square(i)) for i in Ws])\n",
    "    \n",
    "    cost = CEC + L2_cost\n",
    "    \n",
    "    return cost"
   ]
  },
  {
   "cell_type": "code",
   "execution_count": 128,
   "metadata": {},
   "outputs": [
    {
     "name": "stdout",
     "output_type": "stream",
     "text": [
      "Initialization using He method with Regularized Cost Fcuntion\n",
      "Cost after iteration 0: 0.8467634148667109\n",
      "Cost after iteration 1000: 0.4263856704076405\n",
      "Cost after iteration 2000: 0.26291248945182333\n",
      "Cost after iteration 2999: 0.049289033037004534\n"
     ]
    },
    {
     "data": {
      "image/png": "[encoded data removed]",
      "text/plain": [
       "<Figure size 432x288 with 1 Axes>"
      ]
     },
     "metadata": {
      "needs_background": "light"
     },
     "output_type": "display_data"
    }
   ],
   "source": [
    "##  L2-Regulariztion\n",
    "\n",
    "def L_layer_model(X, Y, layers_dims, alpha = 0.01, num_iters = 3000, print_cost = False, initialization = \"he\"):\n",
    "    costs = []\n",
    "    \n",
    "    if initialization == \"zeros\":\n",
    "        parameters = initialize_params_zeros(layers_dims)\n",
    "    elif initialization == \"random\":\n",
    "        parameters = initialize_params_random(layers_dims)\n",
    "    elif initialization == \"he\":\n",
    "        parameters = initialize_params_He(layers_dims)\n",
    "        \n",
    "    for i in range(0,num_iters):\n",
    "        AL, caches = L_model_forward(X, parameters)\n",
    "\n",
    "        cost = cost_function_reg(AL, Y,parameters, 0.1)\n",
    "\n",
    "        grads = L_model_backprop(AL, Y, caches)\n",
    "        \n",
    "        parameters = params_update(parameters, grads, alpha)\n",
    "        \n",
    "        if print_cost and i % 1000 == 0 or i == num_iters - 1:\n",
    "            print(\"Cost after iteration {}: {}\".format(i, np.squeeze(cost)))\n",
    "        if i % 100 == 0 or i == num_iters:\n",
    "            costs.append(cost)\n",
    "    \n",
    "    return parameters, costs\n",
    "\n",
    "def plot_costs(costs, alpha=0.0075):\n",
    "    plt.plot(np.squeeze(costs))\n",
    "    plt.ylabel('cost')\n",
    "    plt.xlabel('iterations (per hundreds)')\n",
    "    plt.title(\"Learning rate =\" + str(alpha))\n",
    "    plt.show()\n",
    "    \n",
    "alpha = 0.0075\n",
    "\n",
    "layers_dims = [X.shape[0],30,15,1]\n",
    "\n",
    "print(\"Initialization using He method with Regularized Cost Fcuntion\")\n",
    "parameters, costs = L_layer_model(X, y, layers_dims, num_iters = 3000, print_cost = True,initialization=\"he\")\n",
    "plot_costs(costs, alpha)\n"
   ]
  },
  {
   "cell_type": "code",
   "execution_count": 129,
   "metadata": {},
   "outputs": [
    {
     "name": "stdout",
     "output_type": "stream",
     "text": [
      "Initialization using He method with Regularized Cost Fcuntion\n",
      "Cost after iteration 0: 0.8593731786530213\n",
      "Cost after iteration 1000: 0.4685519583793695\n",
      "Cost after iteration 2000: 0.1568196487286914\n",
      "Cost after iteration 2999: 0.0467825418978605\n"
     ]
    },
    {
     "data": {
      "image/png": "[encoded data removed]",
      "text/plain": [
       "<Figure size 432x288 with 1 Axes>"
      ]
     },
     "metadata": {
      "needs_background": "light"
     },
     "output_type": "display_data"
    }
   ],
   "source": [
    "##  Backpropagation Regularization\n",
    "\n",
    "def linear_backprop_reg(dZ, cache,lambd):\n",
    "    \n",
    "    A_prev, W, b = cache\n",
    "    m = A_prev.shape[1]\n",
    "    \n",
    "    dW = 1/m * np.dot(dZ, A_prev.T) + lambd/m * W\n",
    "    db = 1/m * np.sum(dZ, axis = 1, keepdims = True)\n",
    "    dA_prev = np.dot(W.T, dZ)\n",
    "    \n",
    "    return dA_prev, dW, db\n",
    "\n",
    "\n",
    "def linear_activation_backprop(dA, cache, activation):\n",
    "    \n",
    "    lin_cache , act_cache = cache\n",
    "    \n",
    "    if activation == \"relu\":\n",
    "        \n",
    "        dZ = relu_backprop(dA, act_cache)\n",
    "        dA_prev, dW, db = linear_backprop_reg(dZ, lin_cache, 0.1)\n",
    "    \n",
    "    elif activation == 'sigmoid':\n",
    "        \n",
    "        dZ = sigmoid_backprop(dA, act_cache)\n",
    "        dA_prev, dW, db = linear_backprop_reg(dZ, lin_cache, 0.1)\n",
    "        \n",
    "    return dA_prev, dW, db\n",
    "\n",
    "\n",
    "def L_model_backprop(AL, Y, caches):\n",
    "    \n",
    "\n",
    "\n",
    "    grads = {}\n",
    "    L = len(caches)\n",
    "    m = AL.shape[1]\n",
    "    Y = Y.reshape(AL.shape)\n",
    "    \n",
    "    dAL = -(np.divide(Y,AL) - np.divide(1-Y, 1-AL))\n",
    "    \n",
    "    current_cache = caches[L - 1]\n",
    "    dA_prev_temp , dW_temp, db_temp = linear_activation_backprop(dAL, current_cache,\"sigmoid\")\n",
    "    grads['dA' + str( L - 1)] = dA_prev_temp\n",
    "    grads['dW' + str(L)] = dW_temp\n",
    "    grads['db' + str(L)] = db_temp\n",
    "    \n",
    "    for l in reversed(range(L - 1)):\n",
    "        current_cache = caches[l]\n",
    "        dA_prev_temp, dW_temp , db_temp = linear_activation_backprop(grads['dA' + str(l + 1)], current_cache,'relu')\n",
    "        grads[\"dA\" + str(l)] = dA_prev_temp\n",
    "        grads[\"dW\" + str(l+ 1)] = dW_temp\n",
    "        grads[\"db\" + str(l + 1)] = db_temp\n",
    "    \n",
    "    return grads\n",
    "\n",
    "\n",
    "def L_layer_model(X, Y, layers_dims, alpha = 0.01, num_iters = 3000, print_cost = False, initialization = \"he\"):\n",
    "    costs = []\n",
    "    \n",
    "    if initialization == \"zeros\":\n",
    "        parameters = initialize_params_zeros(layers_dims)\n",
    "    elif initialization == \"random\":\n",
    "        parameters = initialize_params_random(layers_dims)\n",
    "    elif initialization == \"he\":\n",
    "        parameters = initialize_params_He(layers_dims)\n",
    "        \n",
    "    for i in range(0,num_iters):\n",
    "        AL, caches = L_model_forward(X, parameters)\n",
    "\n",
    "        cost = cost_function_reg(AL, Y,parameters, 0.1)\n",
    "\n",
    "        grads = L_model_backprop(AL, Y, caches)\n",
    "        \n",
    "        parameters = params_update(parameters, grads, alpha)\n",
    "        \n",
    "        if print_cost and i % 1000 == 0 or i == num_iters - 1:\n",
    "            print(\"Cost after iteration {}: {}\".format(i, np.squeeze(cost)))\n",
    "        if i % 100 == 0 or i == num_iters:\n",
    "            costs.append(cost)\n",
    "    \n",
    "    return parameters, costs\n",
    "\n",
    "def plot_costs(costs, alpha=0.0075):\n",
    "    plt.plot(np.squeeze(costs))\n",
    "    plt.ylabel('cost')\n",
    "    plt.xlabel('iterations (per hundreds)')\n",
    "    plt.title(\"Learning rate =\" + str(alpha))\n",
    "    plt.show()\n",
    "    \n",
    "alpha = 0.0075\n",
    "\n",
    "layers_dims = [X.shape[0],30,15,1]\n",
    "\n",
    "print(\"Initialization using He method with Regularized Cost Fcuntion\")\n",
    "parameters, costs = L_layer_model(X, y, layers_dims, num_iters = 3000, print_cost = True,initialization=\"he\")\n",
    "plot_costs(costs, alpha)\n"
   ]
  },
  {
   "cell_type": "markdown",
   "metadata": {},
   "source": [
    "### Drop out Regularization"
   ]
  },
  {
   "cell_type": "code",
   "execution_count": 195,
   "metadata": {},
   "outputs": [],
   "source": [
    "## Frontpropagation Regularization With Drop Out\n",
    "\n",
    "def linear_forward(A, W, b):\n",
    "        \n",
    "    Z = W.dot(A) + b\n",
    "    \n",
    "    cache = (A,W,b)\n",
    "    \n",
    "    return Z, cache\n",
    "\n",
    "# Activation Functions for NN\n",
    "def sigmoid(Z):\n",
    "    \n",
    "    A= 1 / (1 + np.exp(-Z))\n",
    "    cache = Z\n",
    "    \n",
    "    return A, cache\n",
    "\n",
    "def Relu(Z):\n",
    "    \n",
    "    A = np.maximum(0,Z)\n",
    "    cache = Z\n",
    "    \n",
    "    return A, cache\n",
    "\n",
    "# Linear to Activation Layer\n",
    "def linear_activation_forward_drop(A_prev, W, b, activation, keep_prop = 0.5):\n",
    "    \n",
    "    if activation == \"sigmoid\":\n",
    "        \n",
    "        Z, lin_cache = linear_forward(A_prev, W, b)\n",
    "        A, act_cache = sigmoid(Z)\n",
    "        D = np.random.rand(A.shape[0], A.shape[1])\n",
    "        D = (D < keep_prop).astype(int)\n",
    "        A = D * A\n",
    "        A = A / keep_prop\n",
    "#         print(D.shape, A.shape)\n",
    "        cache = (lin_cache, act_cache, D)\n",
    "        \n",
    "    elif activation == \"relu\":\n",
    "        \n",
    "        Z, lin_cache = linear_forward(A_prev, W, b)\n",
    "        A, act_cache = Relu(Z)\n",
    "        D = np.random.rand(A.shape[0], A.shape[1])\n",
    "        D = (D < keep_prop).astype(int)\n",
    "        A = D * A\n",
    "        A = A / keep_prop\n",
    "#         print(D.shape, A.shape)\n",
    "        cache = (lin_cache, act_cache, D)\n",
    "        \n",
    "#     cache = (lin_cache, act_cache, D)\n",
    "    \n",
    "    return A, cache\n",
    "\n",
    "def L_model_forward_drop(X, params):\n",
    "    \n",
    "    caches =[]\n",
    "    A = X\n",
    "    L = len(params) // 2\n",
    "    \n",
    "    for l in range(1, L):\n",
    "        \n",
    "        A_prev = A\n",
    "        # Using Relu Activation function in Hidden Layers\n",
    "        A, cache = linear_activation_forward_drop(A_prev, params['W' + str(l)], params['b' + str(l)], \"relu\")\n",
    "        caches.append(cache)\n",
    "        \n",
    "\n",
    "    Z, lin_cache = linear_forward(A,  params['W' + str(L)], params['b' + str(L)])\n",
    "    AL, act_cache = sigmoid(Z)\n",
    "    cache = (lin_cache, act_cache)\n",
    "    caches.append(cache)\n",
    "\n",
    "    return AL, caches\n"
   ]
  },
  {
   "cell_type": "code",
   "execution_count": 196,
   "metadata": {},
   "outputs": [
    {
     "name": "stdout",
     "output_type": "stream",
     "text": [
      "Initialization using He method with Regularized Cost Function\n"
     ]
    },
    {
     "ename": "ValueError",
     "evalue": "operands could not be broadcast together with shapes (15,152) (30,152) ",
     "output_type": "error",
     "traceback": [
      "\u001b[1;31m---------------------------------------------------------------------------\u001b[0m",
      "\u001b[1;31mValueError\u001b[0m                                Traceback (most recent call last)",
      "\u001b[1;32m<ipython-input-196-a253948f4611>\u001b[0m in \u001b[0;36m<module>\u001b[1;34m\u001b[0m\n\u001b[0;32m    133\u001b[0m \u001b[1;33m\u001b[0m\u001b[0m\n\u001b[0;32m    134\u001b[0m \u001b[0mprint\u001b[0m\u001b[1;33m(\u001b[0m\u001b[1;34m\"Initialization using He method with Regularized Cost Function\"\u001b[0m\u001b[1;33m)\u001b[0m\u001b[1;33m\u001b[0m\u001b[1;33m\u001b[0m\u001b[0m\n\u001b[1;32m--> 135\u001b[1;33m \u001b[0mparameters\u001b[0m\u001b[1;33m,\u001b[0m \u001b[0mcosts\u001b[0m \u001b[1;33m=\u001b[0m \u001b[0mL_layer_model\u001b[0m\u001b[1;33m(\u001b[0m\u001b[0mX\u001b[0m\u001b[1;33m,\u001b[0m \u001b[0my\u001b[0m\u001b[1;33m,\u001b[0m \u001b[0mlayers_dims\u001b[0m\u001b[1;33m,\u001b[0m \u001b[0mnum_iters\u001b[0m \u001b[1;33m=\u001b[0m \u001b[1;36m3000\u001b[0m\u001b[1;33m,\u001b[0m \u001b[0mprint_cost\u001b[0m \u001b[1;33m=\u001b[0m \u001b[1;32mTrue\u001b[0m\u001b[1;33m,\u001b[0m\u001b[0minitialization\u001b[0m\u001b[1;33m=\u001b[0m\u001b[1;34m\"he\"\u001b[0m\u001b[1;33m)\u001b[0m\u001b[1;33m\u001b[0m\u001b[1;33m\u001b[0m\u001b[0m\n\u001b[0m\u001b[0;32m    136\u001b[0m \u001b[0mplot_costs\u001b[0m\u001b[1;33m(\u001b[0m\u001b[0mcosts\u001b[0m\u001b[1;33m,\u001b[0m \u001b[0malpha\u001b[0m\u001b[1;33m)\u001b[0m\u001b[1;33m\u001b[0m\u001b[1;33m\u001b[0m\u001b[0m\n",
      "\u001b[1;32m<ipython-input-196-a253948f4611>\u001b[0m in \u001b[0;36mL_layer_model\u001b[1;34m(X, Y, layers_dims, alpha, num_iters, print_cost, initialization)\u001b[0m\n\u001b[0;32m    110\u001b[0m         \u001b[0mcost\u001b[0m \u001b[1;33m=\u001b[0m \u001b[0mcost_function_reg\u001b[0m\u001b[1;33m(\u001b[0m\u001b[0mAL\u001b[0m\u001b[1;33m,\u001b[0m \u001b[0mY\u001b[0m\u001b[1;33m,\u001b[0m\u001b[0mparameters\u001b[0m\u001b[1;33m,\u001b[0m \u001b[1;36m0.1\u001b[0m\u001b[1;33m)\u001b[0m\u001b[1;33m\u001b[0m\u001b[1;33m\u001b[0m\u001b[0m\n\u001b[0;32m    111\u001b[0m \u001b[1;33m\u001b[0m\u001b[0m\n\u001b[1;32m--> 112\u001b[1;33m         \u001b[0mgrads\u001b[0m \u001b[1;33m=\u001b[0m \u001b[0mL_model_backprop_drop\u001b[0m\u001b[1;33m(\u001b[0m\u001b[0mAL\u001b[0m\u001b[1;33m,\u001b[0m \u001b[0mY\u001b[0m\u001b[1;33m,\u001b[0m \u001b[0mcaches\u001b[0m\u001b[1;33m)\u001b[0m\u001b[1;33m\u001b[0m\u001b[1;33m\u001b[0m\u001b[0m\n\u001b[0m\u001b[0;32m    113\u001b[0m \u001b[1;33m\u001b[0m\u001b[0m\n\u001b[0;32m    114\u001b[0m         \u001b[0mparameters\u001b[0m \u001b[1;33m=\u001b[0m \u001b[0mparams_update\u001b[0m\u001b[1;33m(\u001b[0m\u001b[0mparameters\u001b[0m\u001b[1;33m,\u001b[0m \u001b[0mgrads\u001b[0m\u001b[1;33m,\u001b[0m \u001b[0malpha\u001b[0m\u001b[1;33m)\u001b[0m\u001b[1;33m\u001b[0m\u001b[1;33m\u001b[0m\u001b[0m\n",
      "\u001b[1;32m<ipython-input-196-a253948f4611>\u001b[0m in \u001b[0;36mL_model_backprop_drop\u001b[1;34m(AL, Y, caches, keep_prop)\u001b[0m\n\u001b[0;32m     85\u001b[0m         \u001b[0mlin_cache\u001b[0m \u001b[1;33m,\u001b[0m \u001b[0mact_cache\u001b[0m\u001b[1;33m,\u001b[0m \u001b[0mD\u001b[0m  \u001b[1;33m=\u001b[0m \u001b[0mcurrent_cache\u001b[0m\u001b[1;33m\u001b[0m\u001b[1;33m\u001b[0m\u001b[0m\n\u001b[0;32m     86\u001b[0m         \u001b[0mdA_prev_temp\u001b[0m\u001b[1;33m,\u001b[0m \u001b[0mdW_temp\u001b[0m \u001b[1;33m,\u001b[0m \u001b[0mdb_temp\u001b[0m \u001b[1;33m=\u001b[0m \u001b[0mlinear_activation_backprop_drop\u001b[0m\u001b[1;33m(\u001b[0m\u001b[0mgrads\u001b[0m\u001b[1;33m[\u001b[0m\u001b[1;34m'dA'\u001b[0m \u001b[1;33m+\u001b[0m \u001b[0mstr\u001b[0m\u001b[1;33m(\u001b[0m\u001b[0ml\u001b[0m \u001b[1;33m+\u001b[0m \u001b[1;36m1\u001b[0m\u001b[1;33m)\u001b[0m\u001b[1;33m]\u001b[0m\u001b[1;33m,\u001b[0m \u001b[0mcurrent_cache\u001b[0m\u001b[1;33m,\u001b[0m\u001b[1;34m'relu'\u001b[0m\u001b[1;33m)\u001b[0m\u001b[1;33m\u001b[0m\u001b[1;33m\u001b[0m\u001b[0m\n\u001b[1;32m---> 87\u001b[1;33m         \u001b[0mdA_prev_temp\u001b[0m \u001b[1;33m=\u001b[0m \u001b[0mD\u001b[0m \u001b[1;33m*\u001b[0m \u001b[0mdA_prev_temp\u001b[0m\u001b[1;33m\u001b[0m\u001b[1;33m\u001b[0m\u001b[0m\n\u001b[0m\u001b[0;32m     88\u001b[0m         \u001b[0mdA_prev_temp\u001b[0m \u001b[1;33m=\u001b[0m \u001b[0mdA_prev_temp\u001b[0m \u001b[1;33m/\u001b[0m \u001b[0mkeep_prop\u001b[0m\u001b[1;33m\u001b[0m\u001b[1;33m\u001b[0m\u001b[0m\n\u001b[0;32m     89\u001b[0m \u001b[1;33m\u001b[0m\u001b[0m\n",
      "\u001b[1;31mValueError\u001b[0m: operands could not be broadcast together with shapes (15,152) (30,152) "
     ]
    }
   ],
   "source": [
    "##  Backpropagation Regularization With Drop Out\n",
    "\n",
    "def relu_backprop(dA, cache):\n",
    "    \n",
    "    Z = cache\n",
    "    dZ = np.array(dA, copy = True)\n",
    "    dZ[Z<= 0] = 0\n",
    "    return dZ\n",
    "\n",
    "def sigmoid_backprop(dA, cache):\n",
    "    \n",
    "    Z = cache\n",
    "    s = 1/(1 + np.exp(-Z))\n",
    "    dZ = dA * s * (1 - s)\n",
    "    \n",
    "    return dZ\n",
    "\n",
    "\n",
    "def linear_backprop_drop(dZ, cache, lambd, D, keep_prop  = 0.5):\n",
    "    \n",
    "    A_prev, W, b = cache\n",
    "    m = A_prev.shape[1]\n",
    "#     print(D)\n",
    "    \n",
    "    dW = 1/m * np.dot(dZ, A_prev.T)\n",
    "    db = 1/m * np.sum(dZ, axis = 1, keepdims = True)\n",
    "    dA_prev = np.dot(W.T, dZ)\n",
    "    print(dA_prev.shape , D.shape)\n",
    "#     print(dA_prev.shape)\n",
    "    dA_prev = D * dA_prev\n",
    "    dA_prev = dA_prev / keep_prop\n",
    "    \n",
    "    return dA_prev, dW, db\n",
    "\n",
    "def linear_backprop(dZ, cache,lambd):\n",
    "    \n",
    "    A_prev, W, b = cache\n",
    "    m = A_prev.shape[1]\n",
    "    \n",
    "    dW = 1/m * np.dot(dZ, A_prev.T) \n",
    "    db = 1/m * np.sum(dZ, axis = 1, keepdims = True)\n",
    "    dA_prev = np.dot(W.T, dZ)\n",
    "\n",
    "    return dA_prev, dW, db\n",
    "\n",
    "\n",
    "def linear_activation_backprop_drop(dA, cache, activation,keep_prop = 0.5):\n",
    "    \n",
    "    if activation == \"relu\":\n",
    "        lin_cache , act_cache, D = cache\n",
    "        dZ = relu_backprop(dA, act_cache)\n",
    "        dA_prev, dW, db = linear_backprop(dZ, lin_cache, 0.1)\n",
    "        \n",
    "    elif activation == 'sigmoid':\n",
    "        lin_cache, act_cache = cache\n",
    "        dZ = sigmoid_backprop(dA, act_cache)\n",
    "        dA_prev, dW, db = linear_backprop(dZ, lin_cache, 0.1)\n",
    "        \n",
    "    return dA_prev, dW, db\n",
    "\n",
    "\n",
    "def L_model_backprop_drop(AL, Y, caches,keep_prop = 0.5):\n",
    "    \n",
    "    grads = {}\n",
    "    L = len(caches)\n",
    "    m = AL.shape[1]\n",
    "\n",
    "    Y = Y.reshape(AL.shape)\n",
    "    \n",
    "    dAL = -(np.divide(Y,AL) - np.divide(1-Y, 1-AL))\n",
    "    \n",
    "    current_cache = caches[L - 1]\n",
    "#     print(current_cache[2])\n",
    "#     lin_cache , act_cache, D  = current_cache\n",
    "    dA_prev_temp , dW_temp, db_temp = linear_activation_backprop_drop(dAL, current_cache,\"sigmoid\")\n",
    "#     dA_prev_temp = D * dA_prev_temp\n",
    "#     dA_prev_temp = dA_prev_temp / keep_prop\n",
    "        \n",
    "    grads['dA' + str( L - 1)] = dA_prev_temp\n",
    "    grads['dW' + str(L)] = dW_temp\n",
    "    grads['db' + str(L)] = db_temp\n",
    "    \n",
    "    for l in reversed(range(L - 1)):\n",
    "        current_cache = caches[l]\n",
    "        lin_cache , act_cache, D  = current_cache\n",
    "        dA_prev_temp, dW_temp , db_temp = linear_activation_backprop_drop(grads['dA' + str(l + 1)], current_cache,'relu')\n",
    "        dA_prev_temp = D * dA_prev_temp\n",
    "        dA_prev_temp = dA_prev_temp / keep_prop\n",
    "        \n",
    "        grads[\"dA\" + str(l)] = dA_prev_temp\n",
    "        grads[\"dW\" + str(l+ 1)] = dW_temp\n",
    "        grads[\"db\" + str(l + 1)] = db_temp\n",
    "    \n",
    "    return grads\n",
    "\n",
    "\n",
    "def L_layer_model(X, Y, layers_dims, alpha = 0.01, num_iters = 3000, print_cost = False, initialization = \"he\"):\n",
    "    costs = []\n",
    "    \n",
    "    if initialization == \"zeros\":\n",
    "        parameters = initialize_params_zeros(layers_dims)\n",
    "    elif initialization == \"random\":\n",
    "        parameters = initialize_params_random(layers_dims)\n",
    "    elif initialization == \"he\":\n",
    "        parameters = initialize_params_He(layers_dims)\n",
    "        \n",
    "    for i in range(0,num_iters):\n",
    "        AL, caches = L_model_forward_drop(X, parameters)\n",
    "\n",
    "        cost = cost_function_reg(AL, Y,parameters, 0.1)\n",
    "        \n",
    "        grads = L_model_backprop_drop(AL, Y, caches)\n",
    "        \n",
    "        parameters = params_update(parameters, grads, alpha)\n",
    "        \n",
    "        if print_cost and i % 1000 == 0 or i == num_iters - 1:\n",
    "            print(\"Cost after iteration {}: {}\".format(i, np.squeeze(cost)))\n",
    "        if i % 100 == 0 or i == num_iters:\n",
    "            costs.append(cost)\n",
    "    \n",
    "    return parameters, costs\n",
    "\n",
    "def plot_costs(costs, alpha=0.0075):\n",
    "    plt.plot(np.squeeze(costs))\n",
    "    plt.ylabel('cost')\n",
    "    plt.xlabel('iterations (per hundreds)')\n",
    "    plt.title(\"Learning rate =\" + str(alpha))\n",
    "    plt.show()\n",
    "    \n",
    "alpha = 0.0075\n",
    "\n",
    "layers_dims = [X.shape[0],30,15,1]\n",
    "\n",
    "print(\"Initialization using He method with Regularized Cost Function\")\n",
    "parameters, costs = L_layer_model(X, y, layers_dims, num_iters = 3000, print_cost = True,initialization=\"he\")\n",
    "plot_costs(costs, alpha)\n"
   ]
  },
  {
   "cell_type": "markdown",
   "metadata": {},
   "source": [
    "### Train the NN using training data"
   ]
  },
  {
   "cell_type": "code",
   "execution_count": 130,
   "metadata": {},
   "outputs": [
    {
     "name": "stdout",
     "output_type": "stream",
     "text": [
      "Accuracy: 0.9981916817359857\n"
     ]
    }
   ],
   "source": [
    "#Prediction accuracy on the Training dataset\n",
    "\n",
    "pred_test = predict(X,y, parameters)"
   ]
  },
  {
   "cell_type": "markdown",
   "metadata": {},
   "source": [
    "#### Test dataset"
   ]
  },
  {
   "cell_type": "code",
   "execution_count": 131,
   "metadata": {},
   "outputs": [],
   "source": [
    "# set the test dataset with labels\n",
    "TESTDIR = 'test'\n",
    "test_set = []\n",
    "def create_test_data():\n",
    "\n",
    "    for ctg in CATEGORIES:\n",
    "        path = os.path.join(TESTDIR, ctg)\n",
    "        label = CATEGORIES.index(ctg)\n",
    "        \n",
    "        for img in os.listdir(path):\n",
    "            img_array = cv2.imread(os.path.join(path, img), cv2.IMREAD_GRAYSCALE)\n",
    "            new_array = cv2.resize(img_array, (IMG_SIZE, IMG_SIZE))\n",
    "            test_set.append([new_array, label])\n",
    "\n",
    "            \n",
    "test_set = []\n",
    "create_test_data()\n",
    "random.shuffle(test_set)\n",
    "len(test_set)\n",
    "\n",
    "X = []\n",
    "y = []\n",
    "\n",
    "for features, labels in test_set:\n",
    "    X.append(features)\n",
    "    y.append(labels)\n",
    "X = np.array(X)\n",
    "X = X.reshape(X.shape[0],-1).T\n",
    "X = X/ 255\n",
    "\n",
    "y = np.array(y)\n",
    "y = y.reshape(1,y.shape[0])"
   ]
  },
  {
   "cell_type": "code",
   "execution_count": 132,
   "metadata": {},
   "outputs": [
    {
     "name": "stdout",
     "output_type": "stream",
     "text": [
      "Accuracy: 0.4605263157894737\n"
     ]
    }
   ],
   "source": [
    "# Test on the test set\n",
    "\n",
    "pred_train = predict(X,y, parameters)"
   ]
  }
 ],
 "metadata": {
  "kernelspec": {
   "display_name": "Python 3",
   "language": "python",
   "name": "python3"
  },
  "language_info": {
   "codemirror_mode": {
    "name": "ipython",
    "version": 3
   },
   "file_extension": ".py",
   "mimetype": "text/x-python",
   "name": "python",
   "nbconvert_exporter": "python",
   "pygments_lexer": "ipython3",
   "version": "3.7.4"
  }
 },
 "nbformat": 4,
 "nbformat_minor": 4
}
