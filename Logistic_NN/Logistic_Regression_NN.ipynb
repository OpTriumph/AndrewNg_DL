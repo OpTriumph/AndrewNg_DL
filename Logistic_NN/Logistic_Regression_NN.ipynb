{
 "cells": [
  {
   "cell_type": "code",
   "execution_count": 1,
   "metadata": {},
   "outputs": [],
   "source": [
    "import numpy as np\n",
    "import matplotlib.pyplot as plt\n",
    "import h5py\n",
    "import scipy\n",
    "\n",
    "%matplotlib inline\n",
    "%load_ext autoreload\n",
    "%autoreload 2\n"
   ]
  },
  {
   "cell_type": "code",
   "execution_count": 34,
   "metadata": {},
   "outputs": [],
   "source": [
    "train_data = h5py.File('datasets/train_catvnoncat.h5',\"r\")\n",
    "X_train_orig = np.array(train_data[\"train_set_x\"][:])\n",
    "y_train_orig = np.array(train_data[\"train_set_y\"][:])\n",
    "\n",
    "test_data = h5py.File('datasets/test_catvnoncat.h5',\"r\")\n",
    "X_test_orig = np.array(test_data[\"test_set_x\"][:])\n",
    "y_test_orig = np.array(test_data[\"test_set_y\"][:])\n",
    "\n",
    "classes = np.array(test_data['list_classes'][:])\n"
   ]
  },
  {
   "cell_type": "code",
   "execution_count": 15,
   "metadata": {},
   "outputs": [],
   "source": [
    "y_train_orig = y_train_orig.reshape((1,y_train_orig.shape[0]))\n",
    "y_test_orig = y_test_orig.reshape((1,y_test_orig.shape[0]))"
   ]
  },
  {
   "cell_type": "code",
   "execution_count": 20,
   "metadata": {},
   "outputs": [
    {
     "data": {
      "text/plain": [
       "<matplotlib.image.AxesImage at 0x26e0ebc6608>"
      ]
     },
     "execution_count": 20,
     "metadata": {},
     "output_type": "execute_result"
    },
    {
     "data": {
      "image/png": "[encoded data removed]",
      "text/plain": [
       "<Figure size 432x288 with 1 Axes>"
      ]
     },
     "metadata": {
      "needs_background": "light"
     },
     "output_type": "display_data"
    }
   ],
   "source": [
    "plt.imshow(X_train_orig[200])"
   ]
  },
  {
   "cell_type": "markdown",
   "metadata": {},
   "source": [
    "## Pre-process the dataset"
   ]
  },
  {
   "cell_type": "markdown",
   "metadata": {},
   "source": [
    "#### Dimensions and the shapes of the problem"
   ]
  },
  {
   "cell_type": "code",
   "execution_count": 28,
   "metadata": {},
   "outputs": [
    {
     "name": "stdout",
     "output_type": "stream",
     "text": [
      "dimensions of the original data from dataset \n",
      "X: (209, 64, 64, 3) ,\n",
      "y: (1, 50)\n",
      "Number of training examples:  209\n",
      "Number of testing examples:  50\n",
      "height of each image:  64\n",
      "size of each image: (64, 64 ,3)\n"
     ]
    }
   ],
   "source": [
    "\n",
    "print(\"dimensions of the original data from dataset \\nX:\", X_train_orig.shape,\",\\ny:\",y_test_orig.shape )\n",
    "\n",
    "m_train = X_train_orig.shape[0]\n",
    "m_test = X_test_orig.shape[0]\n",
    "num_px = X_train_orig.shape[2]\n",
    "\n",
    "print(\"Number of training examples: \",m_train)\n",
    "print(\"Number of testing examples: \",m_test)\n",
    "print(\"height of each image: \",num_px)\n",
    "print(\"size of each image: (%d, %d ,3)\" %( num_px,num_px))\n"
   ]
  },
  {
   "cell_type": "markdown",
   "metadata": {},
   "source": [
    "#### Reshape the datasets such that each example is of size(num_px * num_px * 3,1)"
   ]
  },
  {
   "cell_type": "code",
   "execution_count": 41,
   "metadata": {},
   "outputs": [
    {
     "name": "stdout",
     "output_type": "stream",
     "text": [
      "verify the size of the training set: 12288\n",
      "train_set_x_flatten is the size of:  (12288, 209)\n",
      "Indicating there are 209 training data vectors with the size of (12288,1)\n"
     ]
    }
   ],
   "source": [
    "train_set_x_flatten = X_train_orig.reshape(X_train_orig.shape[0],-1).T\n",
    "test_set_x_flatten = X_test_orig.reshape(X_test_orig.shape[0],-1).T\n",
    "\n",
    "print(\"verify the size of the training set: %d\" %( num_px * num_px * 3))\n",
    "print('train_set_x_flatten is the size of: ',train_set_x_flatten.shape)\n",
    "print(\"Indicating there are %d training data vectors with the size of (%d,1)\" %(train_set_x_flatten.shape[1], train_set_x_flatten.shape[0]))"
   ]
  },
  {
   "cell_type": "markdown",
   "metadata": {},
   "source": [
    "#### Standarize the dataset by dividing each row of data by 255"
   ]
  },
  {
   "cell_type": "code",
   "execution_count": 43,
   "metadata": {},
   "outputs": [],
   "source": [
    "train_set_x = train_set_x_flatten/255\n",
    "test_set_x = test_set_x_flatten/255"
   ]
  },
  {
   "cell_type": "code",
   "execution_count": 52,
   "metadata": {},
   "outputs": [
    {
     "data": {
      "text/plain": [
       "(array([[0.06666667, 0.76862745, 0.32156863, ..., 0.56078431, 0.08627451,\n",
       "         0.03137255],\n",
       "        [0.12156863, 0.75294118, 0.27843137, ..., 0.60784314, 0.09411765,\n",
       "         0.10980392],\n",
       "        [0.21960784, 0.74509804, 0.26666667, ..., 0.64705882, 0.09019608,\n",
       "         0.20784314],\n",
       "        ...,\n",
       "        [0.        , 0.32156863, 0.54117647, ..., 0.33333333, 0.01568627,\n",
       "         0.        ],\n",
       "        [0.        , 0.31372549, 0.55294118, ..., 0.41960784, 0.01960784,\n",
       "         0.        ],\n",
       "        [0.        , 0.31764706, 0.55686275, ..., 0.58431373, 0.        ,\n",
       "         0.        ]]),\n",
       " array([[0.61960784, 0.45098039, 1.        , ..., 0.16078431, 0.07058824,\n",
       "         0.52156863],\n",
       "        [0.40784314, 0.43137255, 0.99215686, ..., 0.18431373, 0.07058824,\n",
       "         0.63921569],\n",
       "        [0.3254902 , 0.43529412, 0.99607843, ..., 0.32941176, 0.0627451 ,\n",
       "         0.29411765],\n",
       "        ...,\n",
       "        [0.67843137, 0.67058824, 0.52156863, ..., 0.71764706, 0.56470588,\n",
       "         0.01960784],\n",
       "        [0.50196078, 0.69019608, 0.39607843, ..., 0.55294118, 0.5372549 ,\n",
       "         0.08627451],\n",
       "        [0.43137255, 0.72941176, 0.4745098 , ..., 0.45490196, 0.42352941,\n",
       "         0.01960784]]))"
      ]
     },
     "execution_count": 52,
     "metadata": {},
     "output_type": "execute_result"
    }
   ],
   "source": [
    "train_set_x, test_set_x"
   ]
  },
  {
   "cell_type": "markdown",
   "metadata": {},
   "source": [
    "## General Architecture of the Learning Algorithm"
   ]
  },
  {
   "cell_type": "markdown",
   "metadata": {},
   "source": [
    "<a name='3'></a>\n",
    "<img src=\"images/LogReg_kiank.png\" style=\"width:650px;height:400px;\">\n",
    "\n",
    "**Mathematical expression of the algorithm**:\n",
    "\n",
    "For one example $x^{(i)}$:\n",
    "$$z^{(i)} = w^T x^{(i)} + b \\tag{1}$$\n",
    "$$\\hat{y}^{(i)} = a^{(i)} = sigmoid(z^{(i)})\\tag{2}$$ \n",
    "$$ \\mathcal{L}(a^{(i)}, y^{(i)}) =  - y^{(i)}  \\log(a^{(i)}) - (1-y^{(i)} )  \\log(1-a^{(i)})\\tag{3}$$\n",
    "\n",
    "The cost is then computed by summing over all training examples:\n",
    "$$ J = \\frac{1}{m} \\sum_{i=1}^m \\mathcal{L}(a^{(i)}, y^{(i)})\\tag{6}$$\n"
   ]
  },
  {
   "cell_type": "markdown",
   "metadata": {},
   "source": [
    "#### Step 1 of Building NN: Define Model Structure"
   ]
  },
  {
   "cell_type": "code",
   "execution_count": 54,
   "metadata": {},
   "outputs": [],
   "source": [
    "def sigmoid(z):\n",
    "    y = 1/ (1 + np.exp(-z))\n",
    "    return y"
   ]
  },
  {
   "cell_type": "code",
   "execution_count": 84,
   "metadata": {},
   "outputs": [
    {
     "name": "stdout",
     "output_type": "stream",
     "text": [
      "sigmoid with input  0:  0.5\n",
      "sigmoid with input -1:  0.2689414213699951\n",
      "sigmoid with input  1:  0.7310585786300049\n"
     ]
    },
    {
     "data": {
      "image/png": "[encoded data removed]",
      "text/plain": [
       "<Figure size 432x288 with 1 Axes>"
      ]
     },
     "metadata": {
      "needs_background": "light"
     },
     "output_type": "display_data"
    }
   ],
   "source": [
    "x = [i for i in range(-7,7)]\n",
    "\n",
    "plt.plot(x,[sigmoid(i) for i in x])\n",
    "plt.plot(x,[0.5 for i in x])\n",
    "\n",
    "print(\"sigmoid with input  0: \", sigmoid(0))\n",
    "print(\"sigmoid with input -1: \", sigmoid(-1))\n",
    "print(\"sigmoid with input  1: \", sigmoid(1))"
   ]
  },
  {
   "cell_type": "markdown",
   "metadata": {},
   "source": [
    "#### Step 2 of Building NN: Initialization the Parameters of the model\n",
    "$$z^{(i)} = w^T x^{(i)} + b $$\n"
   ]
  },
  {
   "cell_type": "code",
   "execution_count": 77,
   "metadata": {},
   "outputs": [
    {
     "name": "stdout",
     "output_type": "stream",
     "text": [
      "(array([[0.],\n",
      "       [0.]]), 0.0)\n"
     ]
    }
   ],
   "source": [
    "def param_initilization(dim):\n",
    "    w = np.zeros((dim,1))\n",
    "    b = 0.0\n",
    "    \n",
    "    return w,b\n",
    "\n",
    "print(param_initilization(2))"
   ]
  },
  {
   "cell_type": "markdown",
   "metadata": {},
   "source": [
    "#### Step 3 of Building NN: Forward and Backward Propagation\n",
    "\n",
    "**Forward Propagation: Calculate activation and cost**\n",
    "Forward Propagation:\n",
    "- You get X\n",
    "- You compute $A = \\sigma(w^T X + b) = (a^{(1)}, a^{(2)}, ..., a^{(m-1)}, a^{(m)})$\n",
    "- You calculate the cost function: $J = -\\frac{1}{m}\\sum_{i=1}^{m}(y^{(i)}\\log(a^{(i)})+(1-y^{(i)})\\log(1-a^{(i)}))$\n",
    "\n",
    "**Backward Propagtion: Calculate the Gradients**\n",
    "\n",
    "\n",
    "$$ \\frac{\\partial J}{\\partial w} = \\frac{1}{m}X(A-Y)^T$$\n",
    "$$ \\frac{\\partial J}{\\partial b} = \\frac{1}{m} \\sum_{i=1}^m (a^{(i)}-y^{(i)})$$"
   ]
  },
  {
   "cell_type": "code",
   "execution_count": 109,
   "metadata": {},
   "outputs": [],
   "source": [
    "def propagation(w,b,X,Y):\n",
    "    \n",
    "    m = X.shape[1]\n",
    "    #Forward Propagation\n",
    "    Activation = sigmoid(np.dot(w.T,X) + b)\n",
    "    Cost =- 1/m * (np.dot(Y,np.log(Activation).T) + np.dot((1-Y), np.log(1-Activation).T))\n",
    "    \n",
    "    #Backward Propagtion: Gradients respect to w and b\n",
    "    dw =1/m * np.dot(X, (Activation - Y).T)\n",
    "    db = 1/m * np.sum(Activation - Y)\n",
    "    Cost = np.squeeze(np.array(Cost))\n",
    "    grads = {\n",
    "            'dw' : dw,\n",
    "            'db' : db\n",
    "    }\n",
    "    return Cost, grads"
   ]
  },
  {
   "cell_type": "code",
   "execution_count": 121,
   "metadata": {},
   "outputs": [
    {
     "name": "stdout",
     "output_type": "stream",
     "text": [
      "Cost calculated:  5.801545319394553\n",
      "Gradient respect to w: \n",
      " [[0.99845601]\n",
      " [2.39507239]]\n",
      "Gradient respect to b: \n",
      " 0.001455578136784208\n"
     ]
    }
   ],
   "source": [
    "w =  np.array([[1.], [2.]])\n",
    "b = 2.\n",
    "X =np.array([[1., 2., -1.], [3., 4., -3.2]])\n",
    "Y = np.array([[1, 0, 1]])\n",
    "cost, grads = propagation(w, b, X, Y)\n",
    "\n",
    "print(\"Cost calculated: \",cost.item())\n",
    "print(\"Gradient respect to w: \\n\", grads['dw'])\n",
    "print(\"Gradient respect to b: \\n\", grads['db'])"
   ]
  },
  {
   "cell_type": "markdown",
   "metadata": {},
   "source": [
    "##### Step 4 of Building NN: Optimization\n",
    "**Update the parameters w and b by using Gradient Descent**\n",
    "\n",
    "$ \\theta = \\theta - \\alpha \\text{ } d\\theta$"
   ]
  },
  {
   "cell_type": "code",
   "execution_count": 122,
   "metadata": {},
   "outputs": [],
   "source": [
    "import copy\n",
    "def Optimization(w,b,X,Y,num_iters = 100, alpha = 0.009, print_cost = False):\n",
    "    \n",
    "    w = copy.deepcopy(w)\n",
    "    b = copy.deepcopy(b)\n",
    "    # A deep copy constructs a new compound object and then, recursively,\n",
    "    # inserts copies into it of the objects found in the original.\n",
    "    \n",
    "    costs = []\n",
    "    \n",
    "    for i in range(num_iters):\n",
    "        #Cost and Gradient\n",
    "        cost,grads = propagation(w,b,X,Y)\n",
    "        \n",
    "        #update parameters w and b using  partial derivatives\n",
    "        dw = grads['dw']\n",
    "        db =  grads['db']\n",
    "        w = w - alpha * dw\n",
    "        b = b - alpha * db        \n",
    "        \n",
    "        if i % 100 == 0:\n",
    "            costs.append(cost)\n",
    "            \n",
    "            if print_cost :\n",
    "                print(\"Cost after iteration %i: %d\" %(i,cost))\n",
    "    params = {\"w\": w,\"b\":b}\n",
    "    grads  = {\"dw\": dw,\"db\":db}\n",
    "    \n",
    "    return params, grads, costs"
   ]
  },
  {
   "cell_type": "code",
   "execution_count": 129,
   "metadata": {},
   "outputs": [
    {
     "name": "stdout",
     "output_type": "stream",
     "text": [
      "w = [[0.19033591]\n",
      " [0.12259159]]\n",
      "b = 1.9253598300845747\n",
      "dw = [[0.67752042]\n",
      " [1.41625495]]\n",
      "db = 0.21919450454067652\n",
      "Costs = [array(5.80154532)]\n",
      "which are same to the expected values\n"
     ]
    }
   ],
   "source": [
    "params, grads, costs = Optimization(w, b, X, Y, num_iters=100, alpha=0.009, print_cost=False)\n",
    "\n",
    "print (\"w = \" + str(params[\"w\"]))\n",
    "print (\"b = \" + str(params[\"b\"]))\n",
    "print (\"dw = \" + str(grads[\"dw\"]))\n",
    "print (\"db = \" + str(grads[\"db\"]))\n",
    "print(\"Costs = \" + str(costs))\n",
    "\n",
    "print(\"which are same to the expected values\")"
   ]
  },
  {
   "cell_type": "markdown",
   "metadata": {},
   "source": [
    "### Prediction using learned parameters w and b\n",
    "\n",
    "$\\hat{Y} = A = \\sigma(w^T X + b)$\n",
    "with $\\hat{Y}$ converts to 0 or 1"
   ]
  },
  {
   "cell_type": "code",
   "execution_count": 132,
   "metadata": {},
   "outputs": [],
   "source": [
    "def predict(w,b,X):\n",
    "    m = X.shape[1]\n",
    "    Y_hat = np.zeros((1,m))\n",
    "    w = w.reshape(X.shape[0],1)\n",
    "    \n",
    "    Activation = sigmoid(np.dot(w.T, X)+ b)\n",
    " \n",
    "    #Convert activation values to only 0 or 1 by threshold 0.5\n",
    "    Y_hat = np.where(Activation>0.5,1,0)\n",
    "    \n",
    "    return Y_hat"
   ]
  },
  {
   "cell_type": "code",
   "execution_count": 134,
   "metadata": {},
   "outputs": [
    {
     "name": "stdout",
     "output_type": "stream",
     "text": [
      "predictions = [[1 1 0]]\n",
      "Calculated values equals to expected values\n"
     ]
    }
   ],
   "source": [
    "w = np.array([[0.1124579], [0.23106775]])\n",
    "b = -0.3\n",
    "X = np.array([[1., -1.1, -3.2],[1.2, 2., 0.1]])\n",
    "print (\"predictions = \" + str(predict(w, b, X)))\n",
    "\n",
    "print(\"Calculated values equals to expected values\")"
   ]
  },
  {
   "cell_type": "markdown",
   "metadata": {},
   "source": [
    "### Packing into a Model"
   ]
  },
  {
   "cell_type": "code",
   "execution_count": 139,
   "metadata": {},
   "outputs": [],
   "source": [
    "def model(X_train,Y_train,X_test,Y_test, num_iters = 2000, alpha = 0.5, print_cost = False):\n",
    "    \n",
    "    # Initialize the parameters w, b by the dimensions of Training set\n",
    "    w, b = param_initilization(X_train.shape[0])\n",
    "    \n",
    "    #Optimize the parameters by using Gradient Descent\n",
    "    params,grads,costs = Optimization(w,b,X_train,Y_train,num_iters=num_iters, alpha=alpha,print_cost=False)\n",
    "    w = params['w']\n",
    "    b = params['b']    \n",
    "    \n",
    "    # Predictions of both train and test sets\n",
    "    Y_hat_test = predict(w,b,X_test)\n",
    "    Y_hat_train = predict(w,b,X_train)\n",
    "    \n",
    "    #Errors\n",
    "    if print_cost:\n",
    "        print(\"train accuracy: {} %\".format(100 - np.mean(np.abs(Y_hat_train - Y_train)) * 100))\n",
    "        print(\"test accuracy: {} %\".format(100 - np.mean(np.abs(Y_hat_test - Y_test)) * 100))\n",
    "\n",
    "\n",
    "    d = {\"costs\": costs,\n",
    "         \"Y_prediction_test\": Y_hat_test, \n",
    "         \"Y_prediction_train\" : Y_hat_train, \n",
    "         \"w\" : w, \n",
    "         \"b\" : b,\n",
    "         \"learning_rate\" : alpha,\n",
    "         \"num_iterations\": num_iters}\n",
    "    \n",
    "    return d"
   ]
  },
  {
   "cell_type": "code",
   "execution_count": 140,
   "metadata": {},
   "outputs": [
    {
     "name": "stdout",
     "output_type": "stream",
     "text": [
      "train accuracy: 99.04306220095694 %\n",
      "test accuracy: 70.0 %\n"
     ]
    }
   ],
   "source": [
    "logistic_regression_model = model(train_set_x, y_train_orig, test_set_x, y_test_orig, num_iters=2000, alpha=0.005, print_cost=True)"
   ]
  },
  {
   "cell_type": "code",
   "execution_count": 143,
   "metadata": {},
   "outputs": [
    {
     "data": {
      "text/plain": [
       "Text(0.5, 1.0, 'Learning rate =0.005')"
      ]
     },
     "execution_count": 143,
     "metadata": {},
     "output_type": "execute_result"
    },
    {
     "data": {
      "image/png": "[encoded data removed]",
      "text/plain": [
       "<Figure size 432x288 with 1 Axes>"
      ]
     },
     "metadata": {
      "needs_background": "light"
     },
     "output_type": "display_data"
    }
   ],
   "source": [
    "costs = logistic_regression_model['costs']\n",
    "plt.plot(costs)\n",
    "plt.ylabel('cost')\n",
    "plt.xlabel('iterations (per hundreds)')\n",
    "plt.title(\"Learning rate =\" + str(logistic_regression_model[\"learning_rate\"]))"
   ]
  },
  {
   "cell_type": "markdown",
   "metadata": {},
   "source": [
    "## Analysis\n",
    "\n",
    "**Learning Rate Alpha is critical in the learning process, analysis different alpha to the costs**"
   ]
  },
  {
   "cell_type": "code",
   "execution_count": 146,
   "metadata": {},
   "outputs": [
    {
     "name": "stdout",
     "output_type": "stream",
     "text": [
      "Training a model with learning rate: 0.01\n",
      "\n",
      "-------------------------------------------------------\n",
      "\n",
      "Training a model with learning rate: 0.001\n",
      "\n",
      "-------------------------------------------------------\n",
      "\n",
      "Training a model with learning rate: 0.0001\n",
      "\n",
      "-------------------------------------------------------\n",
      "\n"
     ]
    },
    {
     "data": {
      "image/png": "[encoded data removed]",
      "text/plain": [
       "<Figure size 432x288 with 1 Axes>"
      ]
     },
     "metadata": {
      "needs_background": "light"
     },
     "output_type": "display_data"
    }
   ],
   "source": [
    "learning_rates = [0.01, 0.001, 0.0001]\n",
    "models = {}\n",
    "\n",
    "for lr in learning_rates:\n",
    "    print (\"Training a model with learning rate: \" + str(lr))\n",
    "    models[str(lr)] = model(train_set_x, y_train_orig, test_set_x, y_test_orig, num_iters=1500, alpha=lr, print_cost=False)\n",
    "    print ('\\n' + \"-------------------------------------------------------\" + '\\n')\n",
    "\n",
    "for lr in learning_rates:\n",
    "    plt.plot(np.squeeze(models[str(lr)][\"costs\"]), label=str(models[str(lr)][\"learning_rate\"]))\n",
    "\n",
    "plt.ylabel('cost')\n",
    "plt.xlabel('iterations (hundreds)')\n",
    "\n",
    "legend = plt.legend(loc='upper center', shadow=True)\n",
    "frame = legend.get_frame()\n",
    "frame.set_facecolor('0.90')\n",
    "plt.show()"
   ]
  }
 ],
 "metadata": {
  "kernelspec": {
   "display_name": "Python 3",
   "language": "python",
   "name": "python3"
  },
  "language_info": {
   "codemirror_mode": {
    "name": "ipython",
    "version": 3
   },
   "file_extension": ".py",
   "mimetype": "text/x-python",
   "name": "python",
   "nbconvert_exporter": "python",
   "pygments_lexer": "ipython3",
   "version": "3.7.4"
  }
 },
 "nbformat": 4,
 "nbformat_minor": 4
}
